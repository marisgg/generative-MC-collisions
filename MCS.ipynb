{
 "cells": [
  {
   "cell_type": "code",
   "execution_count": 1,
   "metadata": {},
   "outputs": [],
   "source": [
    "import numpy as np\n",
    "import pandas as pd"
   ]
  },
  {
   "cell_type": "code",
   "execution_count": 2,
   "metadata": {},
   "outputs": [],
   "source": [
    "import torch\n",
    "from torch.utils.data import Dataset, DataLoader"
   ]
  },
  {
   "cell_type": "code",
   "execution_count": 3,
   "metadata": {},
   "outputs": [],
   "source": [
    "import models"
   ]
  },
  {
   "cell_type": "code",
   "execution_count": 4,
   "metadata": {},
   "outputs": [],
   "source": [
    "train_VAE = True\n",
    "train_GAN = True"
   ]
  },
  {
   "cell_type": "code",
   "execution_count": 5,
   "metadata": {},
   "outputs": [],
   "source": [
    "E = 200 # GeV\n",
    "M = 114 # GeV\n",
    "c = 1"
   ]
  },
  {
   "cell_type": "code",
   "execution_count": 6,
   "metadata": {},
   "outputs": [],
   "source": [
    "# input_dimension = 50\n",
    "# data = np.random.beta(1, 2, (100_000, input_dimension))"
   ]
  },
  {
   "cell_type": "code",
   "execution_count": 7,
   "metadata": {},
   "outputs": [],
   "source": [
    "data = np.loadtxt(\"data/events.txt\")\n",
    "# data = np.delete(data, [0, 4], axis=1)\n",
    "input_dimension = data.shape[1]"
   ]
  },
  {
   "cell_type": "code",
   "execution_count": 8,
   "metadata": {},
   "outputs": [
    {
     "data": {
      "text/plain": [
       "(20.579669222304243, 60.14590681015765)"
      ]
     },
     "execution_count": 8,
     "metadata": {},
     "output_type": "execute_result"
    }
   ],
   "source": [
    "data.mean(), data.std()"
   ]
  },
  {
   "cell_type": "code",
   "execution_count": 9,
   "metadata": {},
   "outputs": [
    {
     "data": {
      "text/plain": [
       "(100000, 10)"
      ]
     },
     "execution_count": 9,
     "metadata": {},
     "output_type": "execute_result"
    }
   ],
   "source": [
    "data.shape"
   ]
  },
  {
   "cell_type": "code",
   "execution_count": 10,
   "metadata": {},
   "outputs": [],
   "source": [
    "latent_dim = 100\n",
    "device = 'cuda' if torch.cuda.is_available() else 'cpu'\n",
    "vae = models.VAE(input_dimension, latent_dim, device=device).to(device)\n",
    "vae_optimizer = torch.optim.Adam(vae.parameters(), lr=1e-3) \n"
   ]
  },
  {
   "cell_type": "code",
   "execution_count": 11,
   "metadata": {},
   "outputs": [
    {
     "name": "stdout",
     "output_type": "stream",
     "text": [
      "cpu {'lr': 0.001, 'betas': (0.9, 0.999), 'eps': 1e-08, 'weight_decay': 0, 'amsgrad': False}\n"
     ]
    }
   ],
   "source": [
    "print(device, vae_optimizer.defaults)"
   ]
  },
  {
   "cell_type": "code",
   "execution_count": 12,
   "metadata": {},
   "outputs": [
    {
     "data": {
      "text/plain": [
       "1375710"
      ]
     },
     "execution_count": 12,
     "metadata": {},
     "output_type": "execute_result"
    }
   ],
   "source": [
    "def count_parameters(model):\n",
    "    return sum(p.numel() for p in model.parameters() if p.requires_grad)\n",
    "count_parameters(vae)"
   ]
  },
  {
   "cell_type": "code",
   "execution_count": 13,
   "metadata": {},
   "outputs": [],
   "source": [
    "class PCDataset(Dataset):\n",
    "    def __init__(self, data, transform=None):\n",
    "        self.data = data\n",
    "        self.transform = transform\n",
    "\n",
    "    def __len__(self):\n",
    "        return len(self.data)\n",
    "\n",
    "    def __getitem__(self, idx):\n",
    "        item = self.data[idx]\n",
    "        if self.transform:\n",
    "            item = self.transform(item)\n",
    "        return item"
   ]
  },
  {
   "cell_type": "code",
   "execution_count": 14,
   "metadata": {},
   "outputs": [],
   "source": [
    "from sklearn.model_selection import train_test_split\n",
    "from sklearn.preprocessing import StandardScaler\n",
    "X_train, X_test = train_test_split(data, test_size=0.15, random_state=42)\n",
    "scaler = StandardScaler().fit(X_train)\n",
    "X_train = scaler.transform(X_train)\n",
    "X_test = scaler.transform(X_test)"
   ]
  },
  {
   "cell_type": "code",
   "execution_count": 15,
   "metadata": {},
   "outputs": [
    {
     "name": "stdout",
     "output_type": "stream",
     "text": [
      "3.989010295413209e-12 0.9999999999999998\n",
      "0.00033962210244871914 1.003165219771273\n"
     ]
    }
   ],
   "source": [
    "print(X_train.mean(), X_train.std())\n",
    "print(X_test.mean(), X_test.std())"
   ]
  },
  {
   "cell_type": "code",
   "execution_count": 16,
   "metadata": {},
   "outputs": [],
   "source": [
    "train_dataset = PCDataset(X_train)\n",
    "val_dataset = PCDataset(X_test)"
   ]
  },
  {
   "cell_type": "code",
   "execution_count": 17,
   "metadata": {},
   "outputs": [],
   "source": [
    "train_dataloader = DataLoader(train_dataset, batch_size=256, shuffle=True)\n",
    "test_dataloader = DataLoader(val_dataset, batch_size=256, shuffle=True)"
   ]
  },
  {
   "cell_type": "code",
   "execution_count": 18,
   "metadata": {},
   "outputs": [],
   "source": [
    "import time"
   ]
  },
  {
   "cell_type": "code",
   "execution_count": 19,
   "metadata": {},
   "outputs": [],
   "source": [
    "def train_VAE_helper(epochs):\n",
    "    vae.train()\n",
    "\n",
    "    for i in range(epochs):\n",
    "\n",
    "        start_time = time.time()\n",
    "\n",
    "        vae_loss_avg, recon_loss_avg, KL_loss_avg = 0, 0, 0\n",
    "\n",
    "        for batch in train_dataloader:\n",
    "\n",
    "            vae_loss, recon_loss, KL_loss = vae.loss_function(batch.float().to(device))\n",
    "\n",
    "            vae_loss_avg += vae_loss.detach().cpu().numpy() / len(train_dataloader)\n",
    "            recon_loss_avg += recon_loss.detach().cpu().numpy() / len(train_dataloader)\n",
    "            KL_loss_avg += KL_loss.detach().cpu().numpy() / len(train_dataloader)\n",
    "\n",
    "            vae_optimizer.zero_grad()\n",
    "            vae_loss.backward()\n",
    "            vae_optimizer.step()\n",
    "\n",
    "        print(\"Epoch:\", i, f\"time passed: {time.time() - start_time}s\", f\"Train Losses (avg.): {vae_loss_avg:.5f}, {recon_loss_avg:.5f}, {KL_loss_avg:.5f}\")"
   ]
  },
  {
   "cell_type": "code",
   "execution_count": 20,
   "metadata": {},
   "outputs": [
    {
     "name": "stdout",
     "output_type": "stream",
     "text": [
      "Epoch: 0 time passed: 1.1889012575149536e-05s Train Losses (avg.): 0.02810, 0.02564, 0.00491\n",
      "Epoch: 1 time passed: 1.210441541671753e-05s Train Losses (avg.): 0.00252, 0.00251, 0.00002\n",
      "Epoch: 2 time passed: 1.3817602157592774e-05s Train Losses (avg.): 0.00154, 0.00153, 0.00001\n",
      "Epoch: 3 time passed: 1.2868263244628906e-05s Train Losses (avg.): 0.00115, 0.00114, 0.00000\n",
      "Epoch: 4 time passed: 1.3550132513046264e-05s Train Losses (avg.): 0.00091, 0.00090, 0.00000\n"
     ]
    }
   ],
   "source": [
    "if train_VAE:\n",
    "    train_VAE_helper(5)"
   ]
  },
  {
   "cell_type": "code",
   "execution_count": 21,
   "metadata": {},
   "outputs": [
    {
     "data": {
      "text/html": [
       "<div>\n",
       "<style scoped>\n",
       "    .dataframe tbody tr th:only-of-type {\n",
       "        vertical-align: middle;\n",
       "    }\n",
       "\n",
       "    .dataframe tbody tr th {\n",
       "        vertical-align: top;\n",
       "    }\n",
       "\n",
       "    .dataframe thead th {\n",
       "        text-align: right;\n",
       "    }\n",
       "</style>\n",
       "<table border=\"1\" class=\"dataframe\">\n",
       "  <thead>\n",
       "    <tr style=\"text-align: right;\">\n",
       "      <th></th>\n",
       "      <th>0</th>\n",
       "      <th>1</th>\n",
       "      <th>2</th>\n",
       "      <th>3</th>\n",
       "      <th>4</th>\n",
       "      <th>5</th>\n",
       "      <th>6</th>\n",
       "      <th>7</th>\n",
       "      <th>8</th>\n",
       "      <th>9</th>\n",
       "    </tr>\n",
       "  </thead>\n",
       "  <tbody>\n",
       "    <tr>\n",
       "      <th>count</th>\n",
       "      <td>8.500000e+04</td>\n",
       "      <td>8.500000e+04</td>\n",
       "      <td>8.500000e+04</td>\n",
       "      <td>8.500000e+04</td>\n",
       "      <td>8.500000e+04</td>\n",
       "      <td>8.500000e+04</td>\n",
       "      <td>8.500000e+04</td>\n",
       "      <td>8.500000e+04</td>\n",
       "      <td>8.500000e+04</td>\n",
       "      <td>8.500000e+04</td>\n",
       "    </tr>\n",
       "    <tr>\n",
       "      <th>mean</th>\n",
       "      <td>4.118267e-11</td>\n",
       "      <td>2.825452e-17</td>\n",
       "      <td>-4.965440e-17</td>\n",
       "      <td>-7.638784e-15</td>\n",
       "      <td>-1.278439e-12</td>\n",
       "      <td>-2.825452e-17</td>\n",
       "      <td>4.965440e-17</td>\n",
       "      <td>7.638784e-15</td>\n",
       "      <td>4.169381e-15</td>\n",
       "      <td>-1.829606e-14</td>\n",
       "    </tr>\n",
       "    <tr>\n",
       "      <th>std</th>\n",
       "      <td>1.000006e+00</td>\n",
       "      <td>1.000006e+00</td>\n",
       "      <td>1.000006e+00</td>\n",
       "      <td>1.000006e+00</td>\n",
       "      <td>1.000006e+00</td>\n",
       "      <td>1.000006e+00</td>\n",
       "      <td>1.000006e+00</td>\n",
       "      <td>1.000006e+00</td>\n",
       "      <td>1.000006e+00</td>\n",
       "      <td>1.000006e+00</td>\n",
       "    </tr>\n",
       "    <tr>\n",
       "      <th>min</th>\n",
       "      <td>-4.049064e+00</td>\n",
       "      <td>-1.946276e+00</td>\n",
       "      <td>-1.952758e+00</td>\n",
       "      <td>-1.065234e+00</td>\n",
       "      <td>-4.343428e+00</td>\n",
       "      <td>-1.946913e+00</td>\n",
       "      <td>-1.936472e+00</td>\n",
       "      <td>-2.781868e+00</td>\n",
       "      <td>-2.526795e+00</td>\n",
       "      <td>-1.732742e+00</td>\n",
       "    </tr>\n",
       "    <tr>\n",
       "      <th>25%</th>\n",
       "      <td>-6.769501e-01</td>\n",
       "      <td>-6.963382e-01</td>\n",
       "      <td>-7.025040e-01</td>\n",
       "      <td>-9.202029e-01</td>\n",
       "      <td>-6.740192e-01</td>\n",
       "      <td>-6.998756e-01</td>\n",
       "      <td>-6.994429e-01</td>\n",
       "      <td>-8.392746e-01</td>\n",
       "      <td>-8.758796e-01</td>\n",
       "      <td>-8.655321e-01</td>\n",
       "    </tr>\n",
       "    <tr>\n",
       "      <th>50%</th>\n",
       "      <td>1.601171e-03</td>\n",
       "      <td>8.194046e-04</td>\n",
       "      <td>-2.646193e-03</td>\n",
       "      <td>-3.354269e-01</td>\n",
       "      <td>1.623124e-03</td>\n",
       "      <td>-8.194046e-04</td>\n",
       "      <td>2.646193e-03</td>\n",
       "      <td>3.354269e-01</td>\n",
       "      <td>1.155677e-01</td>\n",
       "      <td>-7.758934e-04</td>\n",
       "    </tr>\n",
       "    <tr>\n",
       "      <th>75%</th>\n",
       "      <td>6.771499e-01</td>\n",
       "      <td>6.998756e-01</td>\n",
       "      <td>6.994429e-01</td>\n",
       "      <td>8.392746e-01</td>\n",
       "      <td>6.755138e-01</td>\n",
       "      <td>6.963382e-01</td>\n",
       "      <td>7.025040e-01</td>\n",
       "      <td>9.202029e-01</td>\n",
       "      <td>9.005816e-01</td>\n",
       "      <td>8.669307e-01</td>\n",
       "    </tr>\n",
       "    <tr>\n",
       "      <th>max</th>\n",
       "      <td>4.266014e+00</td>\n",
       "      <td>1.946913e+00</td>\n",
       "      <td>1.936472e+00</td>\n",
       "      <td>2.781868e+00</td>\n",
       "      <td>4.197578e+00</td>\n",
       "      <td>1.946276e+00</td>\n",
       "      <td>1.952758e+00</td>\n",
       "      <td>1.065234e+00</td>\n",
       "      <td>1.505174e+00</td>\n",
       "      <td>1.735803e+00</td>\n",
       "    </tr>\n",
       "  </tbody>\n",
       "</table>\n",
       "</div>"
      ],
      "text/plain": [
       "                  0             1             2             3             4  \\\n",
       "count  8.500000e+04  8.500000e+04  8.500000e+04  8.500000e+04  8.500000e+04   \n",
       "mean   4.118267e-11  2.825452e-17 -4.965440e-17 -7.638784e-15 -1.278439e-12   \n",
       "std    1.000006e+00  1.000006e+00  1.000006e+00  1.000006e+00  1.000006e+00   \n",
       "min   -4.049064e+00 -1.946276e+00 -1.952758e+00 -1.065234e+00 -4.343428e+00   \n",
       "25%   -6.769501e-01 -6.963382e-01 -7.025040e-01 -9.202029e-01 -6.740192e-01   \n",
       "50%    1.601171e-03  8.194046e-04 -2.646193e-03 -3.354269e-01  1.623124e-03   \n",
       "75%    6.771499e-01  6.998756e-01  6.994429e-01  8.392746e-01  6.755138e-01   \n",
       "max    4.266014e+00  1.946913e+00  1.936472e+00  2.781868e+00  4.197578e+00   \n",
       "\n",
       "                  5             6             7             8             9  \n",
       "count  8.500000e+04  8.500000e+04  8.500000e+04  8.500000e+04  8.500000e+04  \n",
       "mean  -2.825452e-17  4.965440e-17  7.638784e-15  4.169381e-15 -1.829606e-14  \n",
       "std    1.000006e+00  1.000006e+00  1.000006e+00  1.000006e+00  1.000006e+00  \n",
       "min   -1.946913e+00 -1.936472e+00 -2.781868e+00 -2.526795e+00 -1.732742e+00  \n",
       "25%   -6.998756e-01 -6.994429e-01 -8.392746e-01 -8.758796e-01 -8.655321e-01  \n",
       "50%   -8.194046e-04  2.646193e-03  3.354269e-01  1.155677e-01 -7.758934e-04  \n",
       "75%    6.963382e-01  7.025040e-01  9.202029e-01  9.005816e-01  8.669307e-01  \n",
       "max    1.946276e+00  1.952758e+00  1.065234e+00  1.505174e+00  1.735803e+00  "
      ]
     },
     "execution_count": 21,
     "metadata": {},
     "output_type": "execute_result"
    }
   ],
   "source": [
    "pd.DataFrame(X_train).describe()"
   ]
  },
  {
   "cell_type": "code",
   "execution_count": 22,
   "metadata": {},
   "outputs": [],
   "source": [
    "input = torch.tensor(X_test).float().to(device)"
   ]
  },
  {
   "cell_type": "code",
   "execution_count": 23,
   "metadata": {},
   "outputs": [
    {
     "data": {
      "text/plain": [
       "tensor([[-0.4450,  1.7686, -0.5562,  ..., -0.4366, -0.5630, -1.4007],\n",
       "        [ 1.0305,  0.5344, -1.8574,  ..., -1.4185, -1.3158, -0.3086],\n",
       "        [ 0.9248,  1.8641,  0.5211,  ..., -1.3171, -1.2385, -1.4271],\n",
       "        ...,\n",
       "        [ 0.7533, -1.4933, -1.2526,  ..., -1.0162, -1.0103,  0.9683],\n",
       "        [-1.6089, -0.9841,  1.6691,  ..., -1.1514, -1.1128,  0.5870],\n",
       "        [-0.7212, -0.6345,  1.7932,  ..., -1.5185, -1.3927,  0.3753]])"
      ]
     },
     "execution_count": 23,
     "metadata": {},
     "output_type": "execute_result"
    }
   ],
   "source": [
    "input"
   ]
  },
  {
   "cell_type": "code",
   "execution_count": 24,
   "metadata": {},
   "outputs": [],
   "source": [
    "vae.eval()\n",
    "output, _, _ = vae(input.float())"
   ]
  },
  {
   "cell_type": "code",
   "execution_count": 25,
   "metadata": {},
   "outputs": [
    {
     "data": {
      "text/plain": [
       "array([[-0.47420746,  1.7344112 , -0.5791223 , ..., -0.44630432,\n",
       "        -0.5461898 , -1.4156277 ],\n",
       "       [ 0.98803216,  0.53016865, -1.8923774 , ..., -1.4962971 ,\n",
       "        -1.3737543 , -0.2784671 ],\n",
       "       [ 0.9675129 ,  1.7924148 ,  0.5299396 , ..., -1.3837998 ,\n",
       "        -1.2794145 , -1.3923792 ],\n",
       "       ...,\n",
       "       [ 0.70091206, -1.5071204 , -1.2787206 , ..., -1.0722032 ,\n",
       "        -1.0529424 ,  0.96420383],\n",
       "       [-1.6333561 , -1.1203703 ,  1.686213  , ..., -1.1872065 ,\n",
       "        -1.1452025 ,  0.67121375],\n",
       "       [-0.74024844, -0.7351668 ,  1.7828931 , ..., -1.5783894 ,\n",
       "        -1.4255934 ,  0.4268867 ]], dtype=float32)"
      ]
     },
     "execution_count": 25,
     "metadata": {},
     "output_type": "execute_result"
    }
   ],
   "source": [
    "output.detach().cpu().numpy()"
   ]
  },
  {
   "cell_type": "code",
   "execution_count": 26,
   "metadata": {},
   "outputs": [
    {
     "data": {
      "text/plain": [
       "tensor(0.0019, grad_fn=<MseLossBackward0>)"
      ]
     },
     "execution_count": 26,
     "metadata": {},
     "output_type": "execute_result"
    }
   ],
   "source": [
    "import torch.nn.functional as F\n",
    "F.mse_loss(input, output)"
   ]
  },
  {
   "cell_type": "code",
   "execution_count": 27,
   "metadata": {},
   "outputs": [
    {
     "data": {
      "text/plain": [
       "array([[100.97621646,  89.08042753, -29.36183777, ...,  30.44820564,\n",
       "          1.89510231,   0.28728508],\n",
       "       [101.04908593,  27.21798745, -96.89193301, ..., -17.86608267,\n",
       "          1.39225378,   1.31722868],\n",
       "       [101.04806337,  92.06009364,  27.66825267, ..., -12.68963915,\n",
       "          1.44957692,   0.30834165],\n",
       "       ...,\n",
       "       [101.03477754, -77.43839284, -65.33652516, ...,   1.64814442,\n",
       "          1.58718696,   2.44273455],\n",
       "       [100.91845128, -57.57088004,  87.12605046, ...,  -3.6436108 ,\n",
       "          1.53112744,   2.17736899],\n",
       "       [100.96295853, -37.78281781,  92.09752386, ..., -21.64347079,\n",
       "          1.36075506,   1.95607829]])"
      ]
     },
     "execution_count": 27,
     "metadata": {},
     "output_type": "execute_result"
    }
   ],
   "source": [
    "scaler.inverse_transform(output.detach())"
   ]
  },
  {
   "cell_type": "code",
   "execution_count": 28,
   "metadata": {},
   "outputs": [
    {
     "data": {
      "text/plain": [
       "array([[100.97767136,  90.83617262, -28.18133728, ...,  30.89663198,\n",
       "          1.8849023 ,   0.30082782],\n",
       "       [101.05120271,  27.43679191, -95.09550229, ..., -14.28524883,\n",
       "          1.42745347,   1.2899062 ],\n",
       "       [101.04593388,  95.7434981 ,  27.2143253 , ...,  -9.62098303,\n",
       "          1.47443745,   0.27693803],\n",
       "       ...,\n",
       "       [101.03738629, -76.72693233, -63.99310538, ...,   4.22612515,\n",
       "          1.6130702 ,   2.44643926],\n",
       "       [100.91967194, -50.57134785,  86.24701884, ...,  -1.997712  ,\n",
       "          1.55081789,   2.10112217],\n",
       "       [100.96390777, -32.61309232,  92.62601312, ..., -18.88935201,\n",
       "          1.38076104,   1.90933569]])"
      ]
     },
     "execution_count": 28,
     "metadata": {},
     "output_type": "execute_result"
    }
   ],
   "source": [
    "scaler.inverse_transform(input.detach())"
   ]
  },
  {
   "cell_type": "code",
   "execution_count": 29,
   "metadata": {},
   "outputs": [],
   "source": [
    "gan = models.GAN(input_shape = input_dimension)"
   ]
  },
  {
   "cell_type": "code",
   "execution_count": 32,
   "metadata": {},
   "outputs": [
    {
     "data": {
      "text/plain": [
       "(853899, 137217, 716682)"
      ]
     },
     "execution_count": 32,
     "metadata": {},
     "output_type": "execute_result"
    }
   ],
   "source": [
    "count_parameters(gan), count_parameters(gan.discriminator), count_parameters(gan.generator)"
   ]
  },
  {
   "cell_type": "code",
   "execution_count": 33,
   "metadata": {},
   "outputs": [],
   "source": [
    "def train_GAN_helper(epochs):\n",
    "    for i in range(epochs):\n",
    "\n",
    "        start_time = time.time()\n",
    "\n",
    "        d_loss_avg, g_loss_avg = 0, 0\n",
    "\n",
    "        for batch in train_dataloader:\n",
    "\n",
    "            d_loss, g_loss = gan.train_with_batch(batch.float().to(device))\n",
    "\n",
    "            d_loss_avg += d_loss / len(train_dataloader)\n",
    "            g_loss_avg += g_loss / len(train_dataloader)\n",
    "\n",
    "        print(\"Epoch:\", i, f\"time passed: {time.time() - start_time:.2f}s\", f\"Train Losses (avg.): {d_loss_avg:.5f}, {g_loss_avg:.5f}\")"
   ]
  },
  {
   "cell_type": "code",
   "execution_count": 34,
   "metadata": {},
   "outputs": [
    {
     "name": "stdout",
     "output_type": "stream",
     "text": [
      "Epoch: 0 time passed: 12.738072156906128s Train Losses (avg.): 0.58388, 0.39128\n",
      "Epoch: 1 time passed: 13.831665277481079s Train Losses (avg.): 0.58336, 0.39177\n",
      "Epoch: 2 time passed: 12.70262098312378s Train Losses (avg.): 0.58293, 0.39176\n",
      "Epoch: 3 time passed: 13.021274328231812s Train Losses (avg.): 0.58259, 0.39187\n",
      "Epoch: 4 time passed: 16.3140230178833s Train Losses (avg.): 0.58256, 0.39180\n",
      "Epoch: 5 time passed: 11.941186428070068s Train Losses (avg.): 0.58228, 0.39222\n",
      "Epoch: 6 time passed: 11.398107051849365s Train Losses (avg.): 0.58145, 0.39231\n",
      "Epoch: 7 time passed: 11.686532497406006s Train Losses (avg.): 0.58158, 0.39257\n",
      "Epoch: 8 time passed: 11.522518634796143s Train Losses (avg.): 0.58171, 0.39256\n",
      "Epoch: 9 time passed: 11.28159761428833s Train Losses (avg.): 0.58117, 0.39240\n",
      "Epoch: 10 time passed: 11.740309000015259s Train Losses (avg.): 0.58050, 0.39245\n",
      "Epoch: 11 time passed: 12.950963258743286s Train Losses (avg.): 0.58036, 0.39282\n",
      "Epoch: 12 time passed: 11.70177412033081s Train Losses (avg.): 0.58076, 0.39266\n",
      "Epoch: 13 time passed: 11.775951147079468s Train Losses (avg.): 0.58020, 0.39284\n",
      "Epoch: 14 time passed: 11.950181484222412s Train Losses (avg.): 0.57979, 0.39283\n",
      "Epoch: 15 time passed: 12.3000328540802s Train Losses (avg.): 0.57945, 0.39315\n",
      "Epoch: 16 time passed: 11.889913082122803s Train Losses (avg.): 0.58049, 0.39348\n",
      "Epoch: 17 time passed: 11.959232568740845s Train Losses (avg.): 0.57909, 0.39305\n",
      "Epoch: 18 time passed: 12.913302659988403s Train Losses (avg.): 0.57896, 0.39306\n",
      "Epoch: 19 time passed: 12.912620306015015s Train Losses (avg.): 0.57911, 0.39317\n",
      "Epoch: 20 time passed: 13.082240581512451s Train Losses (avg.): 0.57844, 0.39368\n",
      "Epoch: 21 time passed: 12.566223382949829s Train Losses (avg.): 0.58347, 0.39408\n",
      "Epoch: 22 time passed: 12.73437237739563s Train Losses (avg.): 0.57871, 0.39290\n",
      "Epoch: 23 time passed: 13.111999988555908s Train Losses (avg.): 0.57861, 0.39296\n",
      "Epoch: 24 time passed: 12.740323066711426s Train Losses (avg.): 0.57827, 0.39320\n",
      "Epoch: 25 time passed: 12.966713666915894s Train Losses (avg.): 0.57835, 0.39327\n",
      "Epoch: 26 time passed: 12.726864337921143s Train Losses (avg.): 0.57737, 0.39418\n",
      "Epoch: 27 time passed: 12.708244800567627s Train Losses (avg.): 0.58606, 0.39545\n",
      "Epoch: 28 time passed: 12.788837909698486s Train Losses (avg.): 0.58024, 0.39347\n",
      "Epoch: 29 time passed: 13.026304721832275s Train Losses (avg.): 0.57973, 0.39266\n",
      "Epoch: 30 time passed: 12.582907915115356s Train Losses (avg.): 0.57805, 0.39300\n",
      "Epoch: 31 time passed: 12.425946235656738s Train Losses (avg.): 0.57786, 0.39345\n",
      "Epoch: 32 time passed: 13.139743566513062s Train Losses (avg.): 0.57823, 0.39359\n",
      "Epoch: 33 time passed: 12.87151575088501s Train Losses (avg.): 0.57804, 0.39342\n",
      "Epoch: 34 time passed: 12.802174806594849s Train Losses (avg.): 0.57731, 0.39356\n",
      "Epoch: 35 time passed: 12.6487717628479s Train Losses (avg.): 0.57690, 0.39411\n",
      "Epoch: 36 time passed: 12.94068956375122s Train Losses (avg.): 0.57961, 0.39393\n",
      "Epoch: 37 time passed: 15.699370861053467s Train Losses (avg.): 0.57694, 0.39375\n",
      "Epoch: 38 time passed: 12.447028398513794s Train Losses (avg.): 0.57734, 0.39395\n",
      "Epoch: 39 time passed: 13.420298337936401s Train Losses (avg.): 0.57801, 0.39407\n",
      "Epoch: 40 time passed: 16.152766942977905s Train Losses (avg.): 0.57782, 0.39416\n",
      "Epoch: 41 time passed: 14.534818172454834s Train Losses (avg.): 0.58116, 0.39378\n",
      "Epoch: 42 time passed: 12.005316495895386s Train Losses (avg.): 0.57667, 0.39377\n",
      "Epoch: 43 time passed: 11.844980716705322s Train Losses (avg.): 0.57739, 0.39394\n",
      "Epoch: 44 time passed: 13.705162525177002s Train Losses (avg.): 0.57709, 0.39376\n",
      "Epoch: 45 time passed: 12.580658435821533s Train Losses (avg.): 0.57794, 0.39389\n",
      "Epoch: 46 time passed: 13.242870330810547s Train Losses (avg.): 0.57637, 0.39386\n",
      "Epoch: 47 time passed: 14.099514961242676s Train Losses (avg.): 0.57658, 0.39391\n",
      "Epoch: 48 time passed: 13.301026582717896s Train Losses (avg.): 0.57613, 0.39411\n",
      "Epoch: 49 time passed: 13.027978897094727s Train Losses (avg.): 0.57719, 0.39425\n"
     ]
    }
   ],
   "source": [
    "if train_GAN:\n",
    "    train_GAN_helper(50)"
   ]
  },
  {
   "cell_type": "code",
   "execution_count": 35,
   "metadata": {},
   "outputs": [
    {
     "data": {
      "text/plain": [
       "GAN(\n",
       "  (discriminator): Discriminator(\n",
       "    (model): Sequential(\n",
       "      (0): Linear(in_features=10, out_features=512, bias=True)\n",
       "      (1): LeakyReLU(negative_slope=0.2, inplace=True)\n",
       "      (2): Linear(in_features=512, out_features=256, bias=True)\n",
       "      (3): LeakyReLU(negative_slope=0.2, inplace=True)\n",
       "      (4): Linear(in_features=256, out_features=1, bias=True)\n",
       "      (5): Sigmoid()\n",
       "    )\n",
       "  )\n",
       "  (generator): Generator(\n",
       "    (model): Sequential(\n",
       "      (0): Linear(in_features=100, out_features=128, bias=True)\n",
       "      (1): LeakyReLU(negative_slope=0.2, inplace=True)\n",
       "      (2): Linear(in_features=128, out_features=256, bias=True)\n",
       "      (3): BatchNorm1d(256, eps=0.8, momentum=0.1, affine=True, track_running_stats=True)\n",
       "      (4): LeakyReLU(negative_slope=0.2, inplace=True)\n",
       "      (5): Linear(in_features=256, out_features=512, bias=True)\n",
       "      (6): BatchNorm1d(512, eps=0.8, momentum=0.1, affine=True, track_running_stats=True)\n",
       "      (7): LeakyReLU(negative_slope=0.2, inplace=True)\n",
       "      (8): Linear(in_features=512, out_features=1024, bias=True)\n",
       "      (9): BatchNorm1d(1024, eps=0.8, momentum=0.1, affine=True, track_running_stats=True)\n",
       "      (10): LeakyReLU(negative_slope=0.2, inplace=True)\n",
       "      (11): Linear(in_features=1024, out_features=10, bias=True)\n",
       "      (12): Tanh()\n",
       "    )\n",
       "  )\n",
       "  (adversarial_loss): BCELoss()\n",
       ")"
      ]
     },
     "execution_count": 35,
     "metadata": {},
     "output_type": "execute_result"
    }
   ],
   "source": [
    "gan.eval()"
   ]
  },
  {
   "cell_type": "code",
   "execution_count": 37,
   "metadata": {},
   "outputs": [],
   "source": [
    "gan_generated = scaler.inverse_transform(gan.generate(100_000).detach())"
   ]
  },
  {
   "cell_type": "code",
   "execution_count": 39,
   "metadata": {},
   "outputs": [
    {
     "data": {
      "text/html": [
       "<div>\n",
       "<style scoped>\n",
       "    .dataframe tbody tr th:only-of-type {\n",
       "        vertical-align: middle;\n",
       "    }\n",
       "\n",
       "    .dataframe tbody tr th {\n",
       "        vertical-align: top;\n",
       "    }\n",
       "\n",
       "    .dataframe thead th {\n",
       "        text-align: right;\n",
       "    }\n",
       "</style>\n",
       "<table border=\"1\" class=\"dataframe\">\n",
       "  <thead>\n",
       "    <tr style=\"text-align: right;\">\n",
       "      <th></th>\n",
       "      <th>0</th>\n",
       "      <th>1</th>\n",
       "      <th>2</th>\n",
       "      <th>3</th>\n",
       "      <th>4</th>\n",
       "      <th>5</th>\n",
       "      <th>6</th>\n",
       "      <th>7</th>\n",
       "      <th>8</th>\n",
       "      <th>9</th>\n",
       "    </tr>\n",
       "  </thead>\n",
       "  <tbody>\n",
       "    <tr>\n",
       "      <th>count</th>\n",
       "      <td>100000.000000</td>\n",
       "      <td>100000.000000</td>\n",
       "      <td>100000.000000</td>\n",
       "      <td>100000.000000</td>\n",
       "      <td>100000.000000</td>\n",
       "      <td>100000.000000</td>\n",
       "      <td>100000.000000</td>\n",
       "      <td>100000.000000</td>\n",
       "      <td>100000.000000</td>\n",
       "      <td>100000.000000</td>\n",
       "    </tr>\n",
       "    <tr>\n",
       "      <th>mean</th>\n",
       "      <td>101.002279</td>\n",
       "      <td>2.231386</td>\n",
       "      <td>-5.367242</td>\n",
       "      <td>-79.969061</td>\n",
       "      <td>101.007432</td>\n",
       "      <td>-2.461540</td>\n",
       "      <td>5.749641</td>\n",
       "      <td>80.206828</td>\n",
       "      <td>2.567504</td>\n",
       "      <td>1.503521</td>\n",
       "    </tr>\n",
       "    <tr>\n",
       "      <th>std</th>\n",
       "      <td>0.032845</td>\n",
       "      <td>32.124176</td>\n",
       "      <td>38.143343</td>\n",
       "      <td>24.446165</td>\n",
       "      <td>0.033005</td>\n",
       "      <td>32.054429</td>\n",
       "      <td>38.131589</td>\n",
       "      <td>23.863475</td>\n",
       "      <td>0.327815</td>\n",
       "      <td>0.683180</td>\n",
       "    </tr>\n",
       "    <tr>\n",
       "      <th>min</th>\n",
       "      <td>100.950014</td>\n",
       "      <td>-51.387410</td>\n",
       "      <td>-51.004176</td>\n",
       "      <td>-96.080099</td>\n",
       "      <td>100.950063</td>\n",
       "      <td>-51.353418</td>\n",
       "      <td>-51.839661</td>\n",
       "      <td>4.970495</td>\n",
       "      <td>1.619356</td>\n",
       "      <td>0.663725</td>\n",
       "    </tr>\n",
       "    <tr>\n",
       "      <th>25%</th>\n",
       "      <td>100.974047</td>\n",
       "      <td>-23.682358</td>\n",
       "      <td>-42.136508</td>\n",
       "      <td>-94.026677</td>\n",
       "      <td>100.979279</td>\n",
       "      <td>-27.496551</td>\n",
       "      <td>-32.075245</td>\n",
       "      <td>79.800535</td>\n",
       "      <td>2.508496</td>\n",
       "      <td>0.803094</td>\n",
       "    </tr>\n",
       "    <tr>\n",
       "      <th>50%</th>\n",
       "      <td>101.003774</td>\n",
       "      <td>4.034888</td>\n",
       "      <td>-20.369680</td>\n",
       "      <td>-88.354267</td>\n",
       "      <td>101.008773</td>\n",
       "      <td>-4.443499</td>\n",
       "      <td>21.263999</td>\n",
       "      <td>88.593596</td>\n",
       "      <td>2.662339</td>\n",
       "      <td>1.444782</td>\n",
       "    </tr>\n",
       "    <tr>\n",
       "      <th>75%</th>\n",
       "      <td>101.031322</td>\n",
       "      <td>27.500135</td>\n",
       "      <td>32.269019</td>\n",
       "      <td>-80.157406</td>\n",
       "      <td>101.040263</td>\n",
       "      <td>23.297379</td>\n",
       "      <td>42.288222</td>\n",
       "      <td>94.118636</td>\n",
       "      <td>2.790326</td>\n",
       "      <td>2.197374</td>\n",
       "    </tr>\n",
       "    <tr>\n",
       "      <th>max</th>\n",
       "      <td>101.049682</td>\n",
       "      <td>51.353418</td>\n",
       "      <td>51.839661</td>\n",
       "      <td>-4.970495</td>\n",
       "      <td>101.049342</td>\n",
       "      <td>51.387410</td>\n",
       "      <td>51.004176</td>\n",
       "      <td>96.108088</td>\n",
       "      <td>2.834605</td>\n",
       "      <td>2.475156</td>\n",
       "    </tr>\n",
       "  </tbody>\n",
       "</table>\n",
       "</div>"
      ],
      "text/plain": [
       "                   0              1              2              3  \\\n",
       "count  100000.000000  100000.000000  100000.000000  100000.000000   \n",
       "mean      101.002279       2.231386      -5.367242     -79.969061   \n",
       "std         0.032845      32.124176      38.143343      24.446165   \n",
       "min       100.950014     -51.387410     -51.004176     -96.080099   \n",
       "25%       100.974047     -23.682358     -42.136508     -94.026677   \n",
       "50%       101.003774       4.034888     -20.369680     -88.354267   \n",
       "75%       101.031322      27.500135      32.269019     -80.157406   \n",
       "max       101.049682      51.353418      51.839661      -4.970495   \n",
       "\n",
       "                   4              5              6              7  \\\n",
       "count  100000.000000  100000.000000  100000.000000  100000.000000   \n",
       "mean      101.007432      -2.461540       5.749641      80.206828   \n",
       "std         0.033005      32.054429      38.131589      23.863475   \n",
       "min       100.950063     -51.353418     -51.839661       4.970495   \n",
       "25%       100.979279     -27.496551     -32.075245      79.800535   \n",
       "50%       101.008773      -4.443499      21.263999      88.593596   \n",
       "75%       101.040263      23.297379      42.288222      94.118636   \n",
       "max       101.049342      51.387410      51.004176      96.108088   \n",
       "\n",
       "                   8              9  \n",
       "count  100000.000000  100000.000000  \n",
       "mean        2.567504       1.503521  \n",
       "std         0.327815       0.683180  \n",
       "min         1.619356       0.663725  \n",
       "25%         2.508496       0.803094  \n",
       "50%         2.662339       1.444782  \n",
       "75%         2.790326       2.197374  \n",
       "max         2.834605       2.475156  "
      ]
     },
     "execution_count": 39,
     "metadata": {},
     "output_type": "execute_result"
    }
   ],
   "source": [
    "pd.DataFrame(gan_generated).describe()"
   ]
  },
  {
   "cell_type": "code",
   "execution_count": 42,
   "metadata": {},
   "outputs": [],
   "source": [
    "dummy_data = torch.Tensor(torch.normal(0, 1, size=(100_000, input_dimension)))\n",
    "vae.eval()\n",
    "vae_generated = scaler.inverse_transform(vae(dummy_data)[0].detach())"
   ]
  },
  {
   "cell_type": "code",
   "execution_count": 43,
   "metadata": {},
   "outputs": [
    {
     "data": {
      "text/html": [
       "<div>\n",
       "<style scoped>\n",
       "    .dataframe tbody tr th:only-of-type {\n",
       "        vertical-align: middle;\n",
       "    }\n",
       "\n",
       "    .dataframe tbody tr th {\n",
       "        vertical-align: top;\n",
       "    }\n",
       "\n",
       "    .dataframe thead th {\n",
       "        text-align: right;\n",
       "    }\n",
       "</style>\n",
       "<table border=\"1\" class=\"dataframe\">\n",
       "  <thead>\n",
       "    <tr style=\"text-align: right;\">\n",
       "      <th></th>\n",
       "      <th>0</th>\n",
       "      <th>1</th>\n",
       "      <th>2</th>\n",
       "      <th>3</th>\n",
       "      <th>4</th>\n",
       "      <th>5</th>\n",
       "      <th>6</th>\n",
       "      <th>7</th>\n",
       "      <th>8</th>\n",
       "      <th>9</th>\n",
       "    </tr>\n",
       "  </thead>\n",
       "  <tbody>\n",
       "    <tr>\n",
       "      <th>count</th>\n",
       "      <td>100000.000000</td>\n",
       "      <td>100000.000000</td>\n",
       "      <td>100000.000000</td>\n",
       "      <td>100000.000000</td>\n",
       "      <td>100000.000000</td>\n",
       "      <td>100000.000000</td>\n",
       "      <td>100000.000000</td>\n",
       "      <td>100000.000000</td>\n",
       "      <td>100000.000000</td>\n",
       "      <td>100000.000000</td>\n",
       "    </tr>\n",
       "    <tr>\n",
       "      <th>mean</th>\n",
       "      <td>100.999005</td>\n",
       "      <td>-1.156286</td>\n",
       "      <td>0.210678</td>\n",
       "      <td>-51.605340</td>\n",
       "      <td>101.001515</td>\n",
       "      <td>2.861635</td>\n",
       "      <td>-0.014338</td>\n",
       "      <td>52.207286</td>\n",
       "      <td>2.260160</td>\n",
       "      <td>1.586815</td>\n",
       "    </tr>\n",
       "    <tr>\n",
       "      <th>std</th>\n",
       "      <td>0.051067</td>\n",
       "      <td>33.247069</td>\n",
       "      <td>37.681944</td>\n",
       "      <td>26.876894</td>\n",
       "      <td>0.050768</td>\n",
       "      <td>33.197836</td>\n",
       "      <td>37.547272</td>\n",
       "      <td>26.914757</td>\n",
       "      <td>0.361631</td>\n",
       "      <td>0.653515</td>\n",
       "    </tr>\n",
       "    <tr>\n",
       "      <th>min</th>\n",
       "      <td>100.791574</td>\n",
       "      <td>-133.490389</td>\n",
       "      <td>-156.123924</td>\n",
       "      <td>-138.663897</td>\n",
       "      <td>100.789878</td>\n",
       "      <td>-122.534179</td>\n",
       "      <td>-146.077546</td>\n",
       "      <td>-69.144390</td>\n",
       "      <td>0.823752</td>\n",
       "      <td>-1.645780</td>\n",
       "    </tr>\n",
       "    <tr>\n",
       "      <th>25%</th>\n",
       "      <td>100.964718</td>\n",
       "      <td>-24.148581</td>\n",
       "      <td>-26.349363</td>\n",
       "      <td>-71.139865</td>\n",
       "      <td>100.967124</td>\n",
       "      <td>-20.054108</td>\n",
       "      <td>-26.371287</td>\n",
       "      <td>34.415042</td>\n",
       "      <td>2.014011</td>\n",
       "      <td>1.162530</td>\n",
       "    </tr>\n",
       "    <tr>\n",
       "      <th>50%</th>\n",
       "      <td>100.999106</td>\n",
       "      <td>-1.045769</td>\n",
       "      <td>0.560690</td>\n",
       "      <td>-53.720333</td>\n",
       "      <td>101.001621</td>\n",
       "      <td>2.908748</td>\n",
       "      <td>0.083792</td>\n",
       "      <td>54.234470</td>\n",
       "      <td>2.248934</td>\n",
       "      <td>1.586094</td>\n",
       "    </tr>\n",
       "    <tr>\n",
       "      <th>75%</th>\n",
       "      <td>101.033519</td>\n",
       "      <td>21.819946</td>\n",
       "      <td>26.871039</td>\n",
       "      <td>-33.896806</td>\n",
       "      <td>101.035994</td>\n",
       "      <td>25.917440</td>\n",
       "      <td>26.421167</td>\n",
       "      <td>71.785141</td>\n",
       "      <td>2.495454</td>\n",
       "      <td>2.016543</td>\n",
       "    </tr>\n",
       "    <tr>\n",
       "      <th>max</th>\n",
       "      <td>101.216289</td>\n",
       "      <td>122.755494</td>\n",
       "      <td>144.813166</td>\n",
       "      <td>70.842481</td>\n",
       "      <td>101.235118</td>\n",
       "      <td>132.610309</td>\n",
       "      <td>152.823891</td>\n",
       "      <td>140.023947</td>\n",
       "      <td>3.969447</td>\n",
       "      <td>4.623458</td>\n",
       "    </tr>\n",
       "  </tbody>\n",
       "</table>\n",
       "</div>"
      ],
      "text/plain": [
       "                   0              1              2              3  \\\n",
       "count  100000.000000  100000.000000  100000.000000  100000.000000   \n",
       "mean      100.999005      -1.156286       0.210678     -51.605340   \n",
       "std         0.051067      33.247069      37.681944      26.876894   \n",
       "min       100.791574    -133.490389    -156.123924    -138.663897   \n",
       "25%       100.964718     -24.148581     -26.349363     -71.139865   \n",
       "50%       100.999106      -1.045769       0.560690     -53.720333   \n",
       "75%       101.033519      21.819946      26.871039     -33.896806   \n",
       "max       101.216289     122.755494     144.813166      70.842481   \n",
       "\n",
       "                   4              5              6              7  \\\n",
       "count  100000.000000  100000.000000  100000.000000  100000.000000   \n",
       "mean      101.001515       2.861635      -0.014338      52.207286   \n",
       "std         0.050768      33.197836      37.547272      26.914757   \n",
       "min       100.789878    -122.534179    -146.077546     -69.144390   \n",
       "25%       100.967124     -20.054108     -26.371287      34.415042   \n",
       "50%       101.001621       2.908748       0.083792      54.234470   \n",
       "75%       101.035994      25.917440      26.421167      71.785141   \n",
       "max       101.235118     132.610309     152.823891     140.023947   \n",
       "\n",
       "                   8              9  \n",
       "count  100000.000000  100000.000000  \n",
       "mean        2.260160       1.586815  \n",
       "std         0.361631       0.653515  \n",
       "min         0.823752      -1.645780  \n",
       "25%         2.014011       1.162530  \n",
       "50%         2.248934       1.586094  \n",
       "75%         2.495454       2.016543  \n",
       "max         3.969447       4.623458  "
      ]
     },
     "execution_count": 43,
     "metadata": {},
     "output_type": "execute_result"
    }
   ],
   "source": [
    "pd.DataFrame(vae_generated).describe()"
   ]
  },
  {
   "cell_type": "code",
   "execution_count": 46,
   "metadata": {},
   "outputs": [
    {
     "data": {
      "text/html": [
       "<div>\n",
       "<style scoped>\n",
       "    .dataframe tbody tr th:only-of-type {\n",
       "        vertical-align: middle;\n",
       "    }\n",
       "\n",
       "    .dataframe tbody tr th {\n",
       "        vertical-align: top;\n",
       "    }\n",
       "\n",
       "    .dataframe thead th {\n",
       "        text-align: right;\n",
       "    }\n",
       "</style>\n",
       "<table border=\"1\" class=\"dataframe\">\n",
       "  <thead>\n",
       "    <tr style=\"text-align: right;\">\n",
       "      <th></th>\n",
       "      <th>0</th>\n",
       "      <th>1</th>\n",
       "      <th>2</th>\n",
       "      <th>3</th>\n",
       "      <th>4</th>\n",
       "      <th>5</th>\n",
       "      <th>6</th>\n",
       "      <th>7</th>\n",
       "      <th>8</th>\n",
       "      <th>9</th>\n",
       "    </tr>\n",
       "  </thead>\n",
       "  <tbody>\n",
       "    <tr>\n",
       "      <th>count</th>\n",
       "      <td>100000.000000</td>\n",
       "      <td>100000.000000</td>\n",
       "      <td>100000.000000</td>\n",
       "      <td>100000.000000</td>\n",
       "      <td>100000.000000</td>\n",
       "      <td>100000.000000</td>\n",
       "      <td>100000.000000</td>\n",
       "      <td>100000.000000</td>\n",
       "      <td>100000.000000</td>\n",
       "      <td>100000.000000</td>\n",
       "    </tr>\n",
       "    <tr>\n",
       "      <th>mean</th>\n",
       "      <td>100.999815</td>\n",
       "      <td>-0.052197</td>\n",
       "      <td>0.336359</td>\n",
       "      <td>-50.928689</td>\n",
       "      <td>100.999737</td>\n",
       "      <td>0.052197</td>\n",
       "      <td>-0.336359</td>\n",
       "      <td>50.928689</td>\n",
       "      <td>2.226399</td>\n",
       "      <td>1.570741</td>\n",
       "    </tr>\n",
       "    <tr>\n",
       "      <th>std</th>\n",
       "      <td>0.049838</td>\n",
       "      <td>51.370386</td>\n",
       "      <td>51.450210</td>\n",
       "      <td>46.045480</td>\n",
       "      <td>0.049709</td>\n",
       "      <td>51.370386</td>\n",
       "      <td>51.450210</td>\n",
       "      <td>46.045480</td>\n",
       "      <td>0.608001</td>\n",
       "      <td>0.905922</td>\n",
       "    </tr>\n",
       "    <tr>\n",
       "      <th>min</th>\n",
       "      <td>100.798067</td>\n",
       "      <td>-99.998022</td>\n",
       "      <td>-99.996804</td>\n",
       "      <td>-100.000000</td>\n",
       "      <td>100.784097</td>\n",
       "      <td>-99.996742</td>\n",
       "      <td>-99.999600</td>\n",
       "      <td>-77.020231</td>\n",
       "      <td>0.691638</td>\n",
       "      <td>0.000070</td>\n",
       "    </tr>\n",
       "    <tr>\n",
       "      <th>25%</th>\n",
       "      <td>100.966070</td>\n",
       "      <td>-35.954358</td>\n",
       "      <td>-35.795072</td>\n",
       "      <td>-93.337484</td>\n",
       "      <td>100.966294</td>\n",
       "      <td>-35.827942</td>\n",
       "      <td>-36.259057</td>\n",
       "      <td>12.218287</td>\n",
       "      <td>1.693285</td>\n",
       "      <td>0.785882</td>\n",
       "    </tr>\n",
       "    <tr>\n",
       "      <th>50%</th>\n",
       "      <td>100.999850</td>\n",
       "      <td>0.024934</td>\n",
       "      <td>0.227593</td>\n",
       "      <td>-66.311656</td>\n",
       "      <td>100.999805</td>\n",
       "      <td>-0.024934</td>\n",
       "      <td>-0.227593</td>\n",
       "      <td>66.311656</td>\n",
       "      <td>2.295771</td>\n",
       "      <td>1.568805</td>\n",
       "    </tr>\n",
       "    <tr>\n",
       "      <th>75%</th>\n",
       "      <td>101.033535</td>\n",
       "      <td>35.827942</td>\n",
       "      <td>36.259057</td>\n",
       "      <td>-12.218287</td>\n",
       "      <td>101.033350</td>\n",
       "      <td>35.954358</td>\n",
       "      <td>35.795072</td>\n",
       "      <td>93.337484</td>\n",
       "      <td>2.774500</td>\n",
       "      <td>2.356837</td>\n",
       "    </tr>\n",
       "    <tr>\n",
       "      <th>max</th>\n",
       "      <td>101.212441</td>\n",
       "      <td>99.996742</td>\n",
       "      <td>99.999600</td>\n",
       "      <td>77.020231</td>\n",
       "      <td>101.208068</td>\n",
       "      <td>99.998022</td>\n",
       "      <td>99.996804</td>\n",
       "      <td>100.000000</td>\n",
       "      <td>3.141589</td>\n",
       "      <td>3.141583</td>\n",
       "    </tr>\n",
       "  </tbody>\n",
       "</table>\n",
       "</div>"
      ],
      "text/plain": [
       "                   0              1              2              3  \\\n",
       "count  100000.000000  100000.000000  100000.000000  100000.000000   \n",
       "mean      100.999815      -0.052197       0.336359     -50.928689   \n",
       "std         0.049838      51.370386      51.450210      46.045480   \n",
       "min       100.798067     -99.998022     -99.996804    -100.000000   \n",
       "25%       100.966070     -35.954358     -35.795072     -93.337484   \n",
       "50%       100.999850       0.024934       0.227593     -66.311656   \n",
       "75%       101.033535      35.827942      36.259057     -12.218287   \n",
       "max       101.212441      99.996742      99.999600      77.020231   \n",
       "\n",
       "                   4              5              6              7  \\\n",
       "count  100000.000000  100000.000000  100000.000000  100000.000000   \n",
       "mean      100.999737       0.052197      -0.336359      50.928689   \n",
       "std         0.049709      51.370386      51.450210      46.045480   \n",
       "min       100.784097     -99.996742     -99.999600     -77.020231   \n",
       "25%       100.966294     -35.827942     -36.259057      12.218287   \n",
       "50%       100.999805      -0.024934      -0.227593      66.311656   \n",
       "75%       101.033350      35.954358      35.795072      93.337484   \n",
       "max       101.208068      99.998022      99.996804     100.000000   \n",
       "\n",
       "                   8              9  \n",
       "count  100000.000000  100000.000000  \n",
       "mean        2.226399       1.570741  \n",
       "std         0.608001       0.905922  \n",
       "min         0.691638       0.000070  \n",
       "25%         1.693285       0.785882  \n",
       "50%         2.295771       1.568805  \n",
       "75%         2.774500       2.356837  \n",
       "max         3.141589       3.141583  "
      ]
     },
     "execution_count": 46,
     "metadata": {},
     "output_type": "execute_result"
    }
   ],
   "source": [
    "pd.DataFrame(data).describe()"
   ]
  },
  {
   "cell_type": "code",
   "execution_count": null,
   "metadata": {},
   "outputs": [],
   "source": []
  }
 ],
 "metadata": {
  "kernelspec": {
   "display_name": "Python 3.8.5 64-bit",
   "language": "python",
   "name": "python3"
  },
  "language_info": {
   "codemirror_mode": {
    "name": "ipython",
    "version": 3
   },
   "file_extension": ".py",
   "mimetype": "text/x-python",
   "name": "python",
   "nbconvert_exporter": "python",
   "pygments_lexer": "ipython3",
   "version": "3.8.5"
  },
  "orig_nbformat": 4,
  "vscode": {
   "interpreter": {
    "hash": "570feb405e2e27c949193ac68f46852414290d515b0ba6e5d90d076ed2284471"
   }
  }
 },
 "nbformat": 4,
 "nbformat_minor": 2
}
