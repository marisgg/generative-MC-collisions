{
 "cells": [
  {
   "cell_type": "code",
   "execution_count": 1,
   "metadata": {},
   "outputs": [],
   "source": [
    "import numpy as np\n",
    "import pandas as pd"
   ]
  },
  {
   "cell_type": "code",
   "execution_count": 2,
   "metadata": {},
   "outputs": [],
   "source": [
    "import torch\n",
    "from torch.utils.data import Dataset, DataLoader"
   ]
  },
  {
   "cell_type": "code",
   "execution_count": 3,
   "metadata": {},
   "outputs": [],
   "source": [
    "import models"
   ]
  },
  {
   "cell_type": "code",
   "execution_count": 4,
   "metadata": {},
   "outputs": [],
   "source": [
    "E = 200 # GeV\n",
    "M = 114 # GeV\n",
    "c = 1"
   ]
  },
  {
   "cell_type": "code",
   "execution_count": 5,
   "metadata": {},
   "outputs": [],
   "source": [
    "input_dimension = 50\n",
    "data = np.random.beta(1, 2, (100_000, input_dimension))"
   ]
  },
  {
   "cell_type": "code",
   "execution_count": 6,
   "metadata": {},
   "outputs": [
    {
     "data": {
      "text/plain": [
       "(0.3334279093694899, 0.2357638527313803)"
      ]
     },
     "execution_count": 6,
     "metadata": {},
     "output_type": "execute_result"
    }
   ],
   "source": [
    "data.mean(), data.std()"
   ]
  },
  {
   "cell_type": "code",
   "execution_count": 7,
   "metadata": {},
   "outputs": [],
   "source": [
    "data = np.loadtxt(\"data/events.txt\")\n",
    "# data = np.delete(data, [0, 4], axis=1)\n",
    "input_dimension = data.shape[1]"
   ]
  },
  {
   "cell_type": "code",
   "execution_count": 8,
   "metadata": {},
   "outputs": [
    {
     "data": {
      "text/plain": [
       "(100000, 10)"
      ]
     },
     "execution_count": 8,
     "metadata": {},
     "output_type": "execute_result"
    }
   ],
   "source": [
    "data.shape"
   ]
  },
  {
   "cell_type": "code",
   "execution_count": 9,
   "metadata": {},
   "outputs": [],
   "source": [
    "latent_dim = 100\n",
    "device = 'cuda' if torch.cuda.is_available() else 'cpu'\n",
    "vae = models.VAE(input_dimension, latent_dim, device=device).to(device)\n",
    "vae_optimizer = torch.optim.Adam(vae.parameters(), lr=1e-3) \n"
   ]
  },
  {
   "cell_type": "code",
   "execution_count": 10,
   "metadata": {},
   "outputs": [
    {
     "name": "stdout",
     "output_type": "stream",
     "text": [
      "cpu {'lr': 0.001, 'betas': (0.9, 0.999), 'eps': 1e-08, 'weight_decay': 0, 'amsgrad': False}\n"
     ]
    }
   ],
   "source": [
    "print(device, vae_optimizer.defaults)"
   ]
  },
  {
   "cell_type": "code",
   "execution_count": 11,
   "metadata": {},
   "outputs": [
    {
     "data": {
      "text/plain": [
       "1375710"
      ]
     },
     "execution_count": 11,
     "metadata": {},
     "output_type": "execute_result"
    }
   ],
   "source": [
    "def count_parameters(model):\n",
    "    return sum(p.numel() for p in model.parameters() if p.requires_grad)\n",
    "count_parameters(vae)"
   ]
  },
  {
   "cell_type": "code",
   "execution_count": 12,
   "metadata": {},
   "outputs": [],
   "source": [
    "class PCDataset(Dataset):\n",
    "    def __init__(self, data, transform=None):\n",
    "        self.data = data\n",
    "        self.transform = transform\n",
    "\n",
    "    def __len__(self):\n",
    "        return len(self.data)\n",
    "\n",
    "    def __getitem__(self, idx):\n",
    "        item = self.data[idx]\n",
    "        if self.transform:\n",
    "            item = self.transform(item)\n",
    "        return item"
   ]
  },
  {
   "cell_type": "code",
   "execution_count": 13,
   "metadata": {},
   "outputs": [],
   "source": [
    "from sklearn.model_selection import train_test_split\n",
    "from sklearn.preprocessing import StandardScaler\n",
    "X_train, X_test = train_test_split(data, test_size=0.33, random_state=42)\n",
    "scaler = StandardScaler().fit(X_train)\n",
    "X_train = scaler.transform(X_train)\n",
    "X_test = scaler.transform(X_test)"
   ]
  },
  {
   "cell_type": "code",
   "execution_count": 14,
   "metadata": {},
   "outputs": [
    {
     "name": "stdout",
     "output_type": "stream",
     "text": [
      "-8.898010023653685e-16 0.8944271909999175\n",
      "-7.742851612975211e-05 0.895897692447275\n"
     ]
    }
   ],
   "source": [
    "print(X_train.mean(), X_train.std())\n",
    "print(X_test.mean(), X_test.std())"
   ]
  },
  {
   "cell_type": "code",
   "execution_count": 15,
   "metadata": {},
   "outputs": [],
   "source": [
    "train_dataset = PCDataset(X_train)\n",
    "val_dataset = PCDataset(X_test)"
   ]
  },
  {
   "cell_type": "code",
   "execution_count": 16,
   "metadata": {},
   "outputs": [],
   "source": [
    "train_dataloader = DataLoader(train_dataset, batch_size=256, shuffle=True)\n",
    "test_dataloader = DataLoader(val_dataset, batch_size=256, shuffle=True)"
   ]
  },
  {
   "cell_type": "code",
   "execution_count": 17,
   "metadata": {},
   "outputs": [],
   "source": [
    "from tqdm.notebook import tqdm"
   ]
  },
  {
   "cell_type": "code",
   "execution_count": 18,
   "metadata": {},
   "outputs": [
    {
     "data": {
      "application/vnd.jupyter.widget-view+json": {
       "model_id": "357d7e5fb78944158d592b6b0e877fe1",
       "version_major": 2,
       "version_minor": 0
      },
      "text/plain": [
       "  0%|          | 0/262 [00:00<?, ?it/s]"
      ]
     },
     "metadata": {},
     "output_type": "display_data"
    },
    {
     "name": "stdout",
     "output_type": "stream",
     "text": [
      "Epoch: 0 Train Losses (avg.): 0.02363, 0.02159, 0.00408\n"
     ]
    },
    {
     "data": {
      "application/vnd.jupyter.widget-view+json": {
       "model_id": "f30a4a759381449ab2db2a22aefb9176",
       "version_major": 2,
       "version_minor": 0
      },
      "text/plain": [
       "  0%|          | 0/262 [00:00<?, ?it/s]"
      ]
     },
     "metadata": {},
     "output_type": "display_data"
    },
    {
     "name": "stdout",
     "output_type": "stream",
     "text": [
      "Epoch: 1 Train Losses (avg.): 0.00202, 0.00201, 0.00002\n"
     ]
    },
    {
     "data": {
      "application/vnd.jupyter.widget-view+json": {
       "model_id": "4b525e9e34db42f2b97b2f60ab00369f",
       "version_major": 2,
       "version_minor": 0
      },
      "text/plain": [
       "  0%|          | 0/262 [00:00<?, ?it/s]"
      ]
     },
     "metadata": {},
     "output_type": "display_data"
    },
    {
     "name": "stdout",
     "output_type": "stream",
     "text": [
      "Epoch: 2 Train Losses (avg.): 0.00119, 0.00119, 0.00001\n"
     ]
    },
    {
     "data": {
      "application/vnd.jupyter.widget-view+json": {
       "model_id": "c079d53f706c46bf9a6540fbeb2be865",
       "version_major": 2,
       "version_minor": 0
      },
      "text/plain": [
       "  0%|          | 0/262 [00:00<?, ?it/s]"
      ]
     },
     "metadata": {},
     "output_type": "display_data"
    },
    {
     "name": "stdout",
     "output_type": "stream",
     "text": [
      "Epoch: 3 Train Losses (avg.): 0.00092, 0.00092, 0.00000\n"
     ]
    },
    {
     "data": {
      "application/vnd.jupyter.widget-view+json": {
       "model_id": "01ac05f9794a4de0b05ebc117fbe4cf6",
       "version_major": 2,
       "version_minor": 0
      },
      "text/plain": [
       "  0%|          | 0/262 [00:00<?, ?it/s]"
      ]
     },
     "metadata": {},
     "output_type": "display_data"
    },
    {
     "name": "stdout",
     "output_type": "stream",
     "text": [
      "Epoch: 4 Train Losses (avg.): 0.00071, 0.00071, 0.00000\n"
     ]
    }
   ],
   "source": [
    "vae.train()\n",
    "\n",
    "for i in range(5):\n",
    "\n",
    "    vae_loss_avg, recon_loss_avg, KL_loss_avg = 0, 0, 0\n",
    "\n",
    "    for batch in tqdm(train_dataloader):\n",
    "\n",
    "        vae_loss, recon_loss, KL_loss = vae.loss_function(batch.float().to(device))\n",
    "\n",
    "        vae_loss_avg += vae_loss.detach().cpu().numpy() / len(train_dataloader)\n",
    "        recon_loss_avg += recon_loss.detach().cpu().numpy() / len(train_dataloader)\n",
    "        KL_loss_avg += KL_loss.detach().cpu().numpy() / len(train_dataloader)\n",
    "\n",
    "        vae_optimizer.zero_grad()\n",
    "        vae_loss.backward()\n",
    "        vae_optimizer.step()\n",
    "\n",
    "    print(\"Epoch:\", i, f\"Train Losses (avg.): {vae_loss_avg:.5f}, {recon_loss_avg:.5f}, {KL_loss_avg:.5f}\")"
   ]
  },
  {
   "cell_type": "code",
   "execution_count": 27,
   "metadata": {},
   "outputs": [
    {
     "data": {
      "text/html": [
       "<div>\n",
       "<style scoped>\n",
       "    .dataframe tbody tr th:only-of-type {\n",
       "        vertical-align: middle;\n",
       "    }\n",
       "\n",
       "    .dataframe tbody tr th {\n",
       "        vertical-align: top;\n",
       "    }\n",
       "\n",
       "    .dataframe thead th {\n",
       "        text-align: right;\n",
       "    }\n",
       "</style>\n",
       "<table border=\"1\" class=\"dataframe\">\n",
       "  <thead>\n",
       "    <tr style=\"text-align: right;\">\n",
       "      <th></th>\n",
       "      <th>0</th>\n",
       "      <th>1</th>\n",
       "      <th>2</th>\n",
       "      <th>3</th>\n",
       "      <th>4</th>\n",
       "      <th>5</th>\n",
       "      <th>6</th>\n",
       "      <th>7</th>\n",
       "      <th>8</th>\n",
       "      <th>9</th>\n",
       "    </tr>\n",
       "  </thead>\n",
       "  <tbody>\n",
       "    <tr>\n",
       "      <th>count</th>\n",
       "      <td>67000.0</td>\n",
       "      <td>6.700000e+04</td>\n",
       "      <td>6.700000e+04</td>\n",
       "      <td>6.700000e+04</td>\n",
       "      <td>67000.0</td>\n",
       "      <td>6.700000e+04</td>\n",
       "      <td>6.700000e+04</td>\n",
       "      <td>6.700000e+04</td>\n",
       "      <td>6.700000e+04</td>\n",
       "      <td>6.700000e+04</td>\n",
       "    </tr>\n",
       "    <tr>\n",
       "      <th>mean</th>\n",
       "      <td>0.0</td>\n",
       "      <td>1.113537e-18</td>\n",
       "      <td>2.227074e-17</td>\n",
       "      <td>1.231678e-15</td>\n",
       "      <td>0.0</td>\n",
       "      <td>-1.113537e-18</td>\n",
       "      <td>-2.227074e-17</td>\n",
       "      <td>-1.231678e-15</td>\n",
       "      <td>1.684835e-15</td>\n",
       "      <td>-1.058348e-14</td>\n",
       "    </tr>\n",
       "    <tr>\n",
       "      <th>std</th>\n",
       "      <td>0.0</td>\n",
       "      <td>1.000007e+00</td>\n",
       "      <td>1.000007e+00</td>\n",
       "      <td>1.000007e+00</td>\n",
       "      <td>0.0</td>\n",
       "      <td>1.000007e+00</td>\n",
       "      <td>1.000007e+00</td>\n",
       "      <td>1.000007e+00</td>\n",
       "      <td>1.000007e+00</td>\n",
       "      <td>1.000007e+00</td>\n",
       "    </tr>\n",
       "    <tr>\n",
       "      <th>min</th>\n",
       "      <td>0.0</td>\n",
       "      <td>-1.831403e+00</td>\n",
       "      <td>-1.822527e+00</td>\n",
       "      <td>-2.727541e+00</td>\n",
       "      <td>0.0</td>\n",
       "      <td>-1.831219e+00</td>\n",
       "      <td>-1.823497e+00</td>\n",
       "      <td>-1.223854e+00</td>\n",
       "      <td>-1.812103e+00</td>\n",
       "      <td>-1.737432e+00</td>\n",
       "    </tr>\n",
       "    <tr>\n",
       "      <th>25%</th>\n",
       "      <td>0.0</td>\n",
       "      <td>-8.308454e-01</td>\n",
       "      <td>-8.301694e-01</td>\n",
       "      <td>-5.746751e-01</td>\n",
       "      <td>0.0</td>\n",
       "      <td>-8.306023e-01</td>\n",
       "      <td>-8.327357e-01</td>\n",
       "      <td>-8.073244e-01</td>\n",
       "      <td>-7.482836e-01</td>\n",
       "      <td>-8.614282e-01</td>\n",
       "    </tr>\n",
       "    <tr>\n",
       "      <th>50%</th>\n",
       "      <td>0.0</td>\n",
       "      <td>-3.032000e-03</td>\n",
       "      <td>-9.418156e-04</td>\n",
       "      <td>2.668616e-01</td>\n",
       "      <td>0.0</td>\n",
       "      <td>3.032000e-03</td>\n",
       "      <td>9.418156e-04</td>\n",
       "      <td>-2.668616e-01</td>\n",
       "      <td>-1.514042e-01</td>\n",
       "      <td>2.592446e-03</td>\n",
       "    </tr>\n",
       "    <tr>\n",
       "      <th>75%</th>\n",
       "      <td>0.0</td>\n",
       "      <td>8.306023e-01</td>\n",
       "      <td>8.327357e-01</td>\n",
       "      <td>8.073244e-01</td>\n",
       "      <td>0.0</td>\n",
       "      <td>8.308454e-01</td>\n",
       "      <td>8.301694e-01</td>\n",
       "      <td>5.746751e-01</td>\n",
       "      <td>5.821515e-01</td>\n",
       "      <td>8.609991e-01</td>\n",
       "    </tr>\n",
       "    <tr>\n",
       "      <th>max</th>\n",
       "      <td>0.0</td>\n",
       "      <td>1.831219e+00</td>\n",
       "      <td>1.823497e+00</td>\n",
       "      <td>1.223854e+00</td>\n",
       "      <td>0.0</td>\n",
       "      <td>1.831403e+00</td>\n",
       "      <td>1.822527e+00</td>\n",
       "      <td>2.727541e+00</td>\n",
       "      <td>3.259955e+00</td>\n",
       "      <td>1.736025e+00</td>\n",
       "    </tr>\n",
       "  </tbody>\n",
       "</table>\n",
       "</div>"
      ],
      "text/plain": [
       "             0             1             2             3        4  \\\n",
       "count  67000.0  6.700000e+04  6.700000e+04  6.700000e+04  67000.0   \n",
       "mean       0.0  1.113537e-18  2.227074e-17  1.231678e-15      0.0   \n",
       "std        0.0  1.000007e+00  1.000007e+00  1.000007e+00      0.0   \n",
       "min        0.0 -1.831403e+00 -1.822527e+00 -2.727541e+00      0.0   \n",
       "25%        0.0 -8.308454e-01 -8.301694e-01 -5.746751e-01      0.0   \n",
       "50%        0.0 -3.032000e-03 -9.418156e-04  2.668616e-01      0.0   \n",
       "75%        0.0  8.306023e-01  8.327357e-01  8.073244e-01      0.0   \n",
       "max        0.0  1.831219e+00  1.823497e+00  1.223854e+00      0.0   \n",
       "\n",
       "                  5             6             7             8             9  \n",
       "count  6.700000e+04  6.700000e+04  6.700000e+04  6.700000e+04  6.700000e+04  \n",
       "mean  -1.113537e-18 -2.227074e-17 -1.231678e-15  1.684835e-15 -1.058348e-14  \n",
       "std    1.000007e+00  1.000007e+00  1.000007e+00  1.000007e+00  1.000007e+00  \n",
       "min   -1.831219e+00 -1.823497e+00 -1.223854e+00 -1.812103e+00 -1.737432e+00  \n",
       "25%   -8.306023e-01 -8.327357e-01 -8.073244e-01 -7.482836e-01 -8.614282e-01  \n",
       "50%    3.032000e-03  9.418156e-04 -2.668616e-01 -1.514042e-01  2.592446e-03  \n",
       "75%    8.308454e-01  8.301694e-01  5.746751e-01  5.821515e-01  8.609991e-01  \n",
       "max    1.831403e+00  1.822527e+00  2.727541e+00  3.259955e+00  1.736025e+00  "
      ]
     },
     "execution_count": 27,
     "metadata": {},
     "output_type": "execute_result"
    }
   ],
   "source": [
    "pd.DataFrame(X_train).describe()"
   ]
  },
  {
   "cell_type": "code",
   "execution_count": 28,
   "metadata": {},
   "outputs": [],
   "source": [
    "input = torch.tensor(X_test).float().to(device)"
   ]
  },
  {
   "cell_type": "code",
   "execution_count": 29,
   "metadata": {},
   "outputs": [
    {
     "data": {
      "text/plain": [
       "tensor([[ 0.0000,  0.4237,  0.6285,  ..., -1.0458, -1.1272, -0.6547],\n",
       "        [ 0.0000,  1.2916, -1.2475,  ...,  0.3878,  0.4271, -0.8856],\n",
       "        [ 0.0000,  0.5786, -0.7334,  ...,  2.4493,  2.4056, -0.7365],\n",
       "        ...,\n",
       "        [ 0.0000, -1.4568, -0.4385,  ..., -0.3469, -0.2293,  1.4110],\n",
       "        [ 0.0000, -0.6135, -0.6833,  ...,  2.4596,  2.4223,  0.8053],\n",
       "        [ 0.0000, -1.4379,  0.7935,  ..., -0.1192, -0.0132,  1.1767]])"
      ]
     },
     "execution_count": 29,
     "metadata": {},
     "output_type": "execute_result"
    }
   ],
   "source": [
    "input"
   ]
  },
  {
   "cell_type": "code",
   "execution_count": 30,
   "metadata": {},
   "outputs": [],
   "source": [
    "output, _, _ = vae(input.float())"
   ]
  },
  {
   "cell_type": "code",
   "execution_count": 31,
   "metadata": {},
   "outputs": [
    {
     "data": {
      "text/plain": [
       "array([[ 1.3217241e-02,  4.4382074e-01,  6.5944922e-01, ...,\n",
       "        -1.0627524e+00, -1.1222103e+00, -6.0649496e-01],\n",
       "       [-2.1731444e-03,  1.2788570e+00, -1.2555132e+00, ...,\n",
       "         3.7619704e-01,  4.1187513e-01, -8.8816988e-01],\n",
       "       [ 6.6588148e-03,  5.5782509e-01, -7.0359039e-01, ...,\n",
       "         2.4603777e+00,  2.4266779e+00, -7.7037632e-01],\n",
       "       ...,\n",
       "       [-5.2489787e-03, -1.4754137e+00, -4.7329682e-01, ...,\n",
       "        -3.1574839e-01, -2.0386839e-01,  1.4131701e+00],\n",
       "       [ 2.4863482e-03, -5.8077580e-01, -7.2928143e-01, ...,\n",
       "         2.4626069e+00,  2.4513829e+00,  8.1002426e-01],\n",
       "       [ 1.5574917e-03, -1.4049965e+00,  7.8634089e-01, ...,\n",
       "        -1.3633825e-01, -2.0417370e-02,  1.1647389e+00]], dtype=float32)"
      ]
     },
     "execution_count": 31,
     "metadata": {},
     "output_type": "execute_result"
    }
   ],
   "source": [
    "output.detach().cpu().numpy()"
   ]
  },
  {
   "cell_type": "code",
   "execution_count": 32,
   "metadata": {},
   "outputs": [
    {
     "data": {
      "text/plain": [
       "tensor(0.0006, grad_fn=<MseLossBackward0>)"
      ]
     },
     "execution_count": 32,
     "metadata": {},
     "output_type": "execute_result"
    }
   ],
   "source": [
    "import torch.nn.functional as F\n",
    "F.mse_loss(input, output)"
   ]
  },
  {
   "cell_type": "code",
   "execution_count": 33,
   "metadata": {},
   "outputs": [
    {
     "data": {
      "text/plain": [
       "array([[100.01321724,  24.23540833,  36.14187745, ..., -91.84435419,\n",
       "          0.43098729,   1.02291053],\n",
       "       [ 99.99782686,  69.83096658, -68.89553001, ..., -19.0146941 ,\n",
       "          1.37608325,   0.76815355],\n",
       "       [100.00665881,  30.46039761, -38.62206902, ...,  86.47210612,\n",
       "          2.61733228,   0.8746903 ],\n",
       "       ...,\n",
       "       [ 99.99475102, -80.56071906, -25.99025985, ..., -54.03618306,\n",
       "          0.99674537,   2.84956856],\n",
       "       [100.00248635, -31.71072746, -40.03124521, ...,  86.58493349,\n",
       "          2.63255212,   2.30406168],\n",
       "       [100.00155749, -76.71572432,  43.10199962, ..., -44.95568321,\n",
       "          1.10976308,   2.6248784 ]])"
      ]
     },
     "execution_count": 33,
     "metadata": {},
     "output_type": "execute_result"
    }
   ],
   "source": [
    "scaler.inverse_transform(output.detach())"
   ]
  },
  {
   "cell_type": "code",
   "execution_count": 34,
   "metadata": {},
   "outputs": [
    {
     "data": {
      "text/plain": [
       "array([[100.        ,  23.13658617,  34.44653018, ..., -90.98425366,\n",
       "          0.42789184,   0.97934015],\n",
       "       [100.        ,  70.5283097 , -68.45617922, ..., -18.42577445,\n",
       "          1.38547971,   0.77049017],\n",
       "       [100.        ,  31.59496339, -40.25694932, ...,  85.91354427,\n",
       "          2.60437412,   0.90537254],\n",
       "       ...,\n",
       "       [100.        , -79.54435376, -24.08205382, ..., -55.61250058,\n",
       "          0.98108033,   2.84761481],\n",
       "       [100.        , -33.4996952 , -37.5090224 , ...,  86.43404649,\n",
       "          2.61463363,   2.2997919 ],\n",
       "       [100.        , -78.5114486 ,  43.49693276, ..., -44.09046208,\n",
       "          1.11419003,   2.6356681 ]])"
      ]
     },
     "execution_count": 34,
     "metadata": {},
     "output_type": "execute_result"
    }
   ],
   "source": [
    "scaler.inverse_transform(input.detach())"
   ]
  },
  {
   "cell_type": "code",
   "execution_count": null,
   "metadata": {},
   "outputs": [],
   "source": []
  }
 ],
 "metadata": {
  "kernelspec": {
   "display_name": "Python 3.8.5 64-bit",
   "language": "python",
   "name": "python3"
  },
  "language_info": {
   "codemirror_mode": {
    "name": "ipython",
    "version": 3
   },
   "file_extension": ".py",
   "mimetype": "text/x-python",
   "name": "python",
   "nbconvert_exporter": "python",
   "pygments_lexer": "ipython3",
   "version": "3.8.5"
  },
  "orig_nbformat": 4,
  "vscode": {
   "interpreter": {
    "hash": "570feb405e2e27c949193ac68f46852414290d515b0ba6e5d90d076ed2284471"
   }
  }
 },
 "nbformat": 4,
 "nbformat_minor": 2
}
