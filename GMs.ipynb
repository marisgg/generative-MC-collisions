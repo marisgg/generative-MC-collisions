{
 "cells": [
  {
   "cell_type": "code",
   "execution_count": 1,
   "metadata": {},
   "outputs": [],
   "source": [
    "import numpy as np\n",
    "import pandas as pd"
   ]
  },
  {
   "cell_type": "code",
   "execution_count": 2,
   "metadata": {},
   "outputs": [],
   "source": [
    "import torch\n",
    "from torch.utils.data import Dataset, DataLoader"
   ]
  },
  {
   "cell_type": "code",
   "execution_count": 3,
   "metadata": {},
   "outputs": [],
   "source": [
    "import models"
   ]
  },
  {
   "cell_type": "code",
   "execution_count": 4,
   "metadata": {},
   "outputs": [],
   "source": [
    "import os\n",
    "os.makedirs(\"./saved_models/\", exist_ok=True)"
   ]
  },
  {
   "cell_type": "code",
   "execution_count": 5,
   "metadata": {},
   "outputs": [],
   "source": [
    "train_VAE = False\n",
    "train_GAN = False\n",
    "train_NF  = True"
   ]
  },
  {
   "cell_type": "code",
   "execution_count": 6,
   "metadata": {},
   "outputs": [],
   "source": [
    "E = 200 # GeV\n",
    "M = 114 # GeV\n",
    "c = 1"
   ]
  },
  {
   "cell_type": "code",
   "execution_count": 7,
   "metadata": {},
   "outputs": [],
   "source": [
    "# input_dimension = 50\n",
    "# data = np.random.beta(1, 2, (100_000, input_dimension))"
   ]
  },
  {
   "cell_type": "code",
   "execution_count": 8,
   "metadata": {},
   "outputs": [],
   "source": [
    "data = np.loadtxt(\"data/events.txt\")\n",
    "\n",
    "# Delete Energy (E) entries\n",
    "# data = np.delete(data, [0, 4], axis=1)\n",
    "\n",
    "# Delete theta and phi\n",
    "data = np.delete(data, [8, 9], axis=1)\n",
    "input_dimension = data.shape[1]"
   ]
  },
  {
   "cell_type": "code",
   "execution_count": 9,
   "metadata": {},
   "outputs": [
    {
     "data": {
      "text/plain": [
       "(25.24994401635484, 66.4280034159734)"
      ]
     },
     "execution_count": 9,
     "metadata": {},
     "output_type": "execute_result"
    }
   ],
   "source": [
    "data.mean(), data.std()"
   ]
  },
  {
   "cell_type": "code",
   "execution_count": 10,
   "metadata": {},
   "outputs": [
    {
     "data": {
      "text/plain": [
       "(100000, 8)"
      ]
     },
     "execution_count": 10,
     "metadata": {},
     "output_type": "execute_result"
    }
   ],
   "source": [
    "data.shape"
   ]
  },
  {
   "cell_type": "code",
   "execution_count": 11,
   "metadata": {},
   "outputs": [],
   "source": [
    "latent_dim = 100\n",
    "device = 'cuda' if torch.cuda.is_available() else 'cpu'\n",
    "vae = models.VAE(input_dimension, latent_dim, device=device).to(device)\n",
    "vae_optimizer = torch.optim.Adam(vae.parameters(), lr=1e-3) \n"
   ]
  },
  {
   "cell_type": "code",
   "execution_count": 12,
   "metadata": {},
   "outputs": [
    {
     "name": "stdout",
     "output_type": "stream",
     "text": [
      "cpu {'lr': 0.001, 'betas': (0.9, 0.999), 'eps': 1e-08, 'weight_decay': 0, 'amsgrad': False}\n"
     ]
    }
   ],
   "source": [
    "print(device, vae_optimizer.defaults)"
   ]
  },
  {
   "cell_type": "code",
   "execution_count": 13,
   "metadata": {},
   "outputs": [
    {
     "data": {
      "text/plain": [
       "1365208"
      ]
     },
     "execution_count": 13,
     "metadata": {},
     "output_type": "execute_result"
    }
   ],
   "source": [
    "def count_parameters(model):\n",
    "    return sum(p.numel() for p in model.parameters() if p.requires_grad)\n",
    "count_parameters(vae)"
   ]
  },
  {
   "cell_type": "code",
   "execution_count": 14,
   "metadata": {},
   "outputs": [],
   "source": [
    "class PCDataset(Dataset):\n",
    "    def __init__(self, data, transform=None):\n",
    "        self.data = data\n",
    "        self.transform = transform\n",
    "\n",
    "    def __len__(self):\n",
    "        return len(self.data)\n",
    "\n",
    "    def __getitem__(self, idx):\n",
    "        item = self.data[idx]\n",
    "        if self.transform:\n",
    "            item = self.transform(item)\n",
    "        return item"
   ]
  },
  {
   "cell_type": "code",
   "execution_count": 15,
   "metadata": {},
   "outputs": [],
   "source": [
    "from sklearn.model_selection import train_test_split\n",
    "from sklearn.preprocessing import StandardScaler\n",
    "X_train, X_test = train_test_split(data, test_size=0.15, random_state=42)\n",
    "scaler = StandardScaler().fit(X_train)\n",
    "X_train = scaler.transform(X_train)\n",
    "X_test = scaler.transform(X_test)"
   ]
  },
  {
   "cell_type": "code",
   "execution_count": 16,
   "metadata": {},
   "outputs": [
    {
     "name": "stdout",
     "output_type": "stream",
     "text": [
      "4.988028616292231e-12 0.9999999999999999\n",
      "2.5556058295948083e-05 1.0032579828462234\n"
     ]
    }
   ],
   "source": [
    "print(X_train.mean(), X_train.std())\n",
    "print(X_test.mean(), X_test.std())"
   ]
  },
  {
   "cell_type": "code",
   "execution_count": 17,
   "metadata": {},
   "outputs": [],
   "source": [
    "train_dataset = PCDataset(X_train)\n",
    "val_dataset = PCDataset(X_test)"
   ]
  },
  {
   "cell_type": "code",
   "execution_count": 18,
   "metadata": {},
   "outputs": [],
   "source": [
    "train_dataloader = DataLoader(train_dataset, batch_size=256, shuffle=True)\n",
    "test_dataloader = DataLoader(val_dataset, batch_size=256, shuffle=True)"
   ]
  },
  {
   "cell_type": "code",
   "execution_count": 19,
   "metadata": {},
   "outputs": [],
   "source": [
    "import time"
   ]
  },
  {
   "cell_type": "code",
   "execution_count": 20,
   "metadata": {},
   "outputs": [],
   "source": [
    "def train_VAE_helper(epochs):\n",
    "    vae.train()\n",
    "\n",
    "    for i in range(epochs):\n",
    "\n",
    "        start_time = time.time()\n",
    "\n",
    "        vae_loss_avg, recon_loss_avg, KL_loss_avg = 0, 0, 0\n",
    "\n",
    "        for batch in train_dataloader:\n",
    "\n",
    "            vae_loss, recon_loss, KL_loss = vae.loss_function(batch.float().to(device))\n",
    "\n",
    "            vae_loss_avg += vae_loss.detach().cpu().numpy() / len(train_dataloader)\n",
    "            recon_loss_avg += recon_loss.detach().cpu().numpy() / len(train_dataloader)\n",
    "            KL_loss_avg += KL_loss.detach().cpu().numpy() / len(train_dataloader)\n",
    "\n",
    "            vae_optimizer.zero_grad()\n",
    "            vae_loss.backward()\n",
    "            vae_optimizer.step()\n",
    "\n",
    "        print(\"Epoch:\", i+1, f\"time passed: {time.time() - start_time:.2f}s\", f\"Train Losses (avg.): vae={vae_loss_avg:.5f}, recon={recon_loss_avg:.5f}, kl={KL_loss_avg:.5f}\")"
   ]
  },
  {
   "cell_type": "code",
   "execution_count": 21,
   "metadata": {},
   "outputs": [],
   "source": [
    "if train_VAE:\n",
    "    train_VAE_helper(25)\n",
    "    torch.save(vae.state_dict(), \"./saved_models/vae-25e\")"
   ]
  },
  {
   "cell_type": "code",
   "execution_count": 22,
   "metadata": {},
   "outputs": [],
   "source": [
    "input = torch.tensor(X_test).float().to(device)"
   ]
  },
  {
   "cell_type": "code",
   "execution_count": 23,
   "metadata": {},
   "outputs": [
    {
     "data": {
      "text/plain": [
       "tensor([[-0.4450,  1.7686, -0.5562,  ..., -1.7686,  0.5562, -0.4366],\n",
       "        [ 1.0305,  0.5344, -1.8574,  ..., -0.5344,  1.8574, -1.4185],\n",
       "        [ 0.9248,  1.8641,  0.5211,  ..., -1.8641, -0.5211, -1.3171],\n",
       "        ...,\n",
       "        [ 0.7533, -1.4933, -1.2526,  ...,  1.4933,  1.2526, -1.0162],\n",
       "        [-1.6089, -0.9841,  1.6691,  ...,  0.9841, -1.6691, -1.1514],\n",
       "        [-0.7212, -0.6345,  1.7932,  ...,  0.6345, -1.7932, -1.5185]])"
      ]
     },
     "execution_count": 23,
     "metadata": {},
     "output_type": "execute_result"
    }
   ],
   "source": [
    "input"
   ]
  },
  {
   "cell_type": "code",
   "execution_count": 24,
   "metadata": {},
   "outputs": [],
   "source": [
    "vae.eval()\n",
    "output, _, _ = vae(input.float())"
   ]
  },
  {
   "cell_type": "code",
   "execution_count": 25,
   "metadata": {},
   "outputs": [
    {
     "data": {
      "text/plain": [
       "array([[ 0.21269076,  0.08223894,  0.14728498, ...,  0.05521317,\n",
       "        -0.10790406,  0.00497104],\n",
       "       [ 0.11668621,  0.12082759,  0.07714057, ...,  0.00969481,\n",
       "         0.12814642, -0.10051254],\n",
       "       [ 0.04248868,  0.13140886, -0.0128967 , ...,  0.00144976,\n",
       "         0.1534228 , -0.07480445],\n",
       "       ...,\n",
       "       [ 0.14989728,  0.16229898,  0.11044201, ...,  0.0263228 ,\n",
       "        -0.03090179, -0.02240129],\n",
       "       [-0.07893754,  0.124944  , -0.02139035, ...,  0.13877362,\n",
       "         0.06342752, -0.10206393],\n",
       "       [ 0.08738572,  0.12574399, -0.00065855, ...,  0.05876401,\n",
       "         0.09256162, -0.00203089]], dtype=float32)"
      ]
     },
     "execution_count": 25,
     "metadata": {},
     "output_type": "execute_result"
    }
   ],
   "source": [
    "output.detach().cpu().numpy()"
   ]
  },
  {
   "cell_type": "code",
   "execution_count": 26,
   "metadata": {},
   "outputs": [
    {
     "data": {
      "text/plain": [
       "tensor(1.0168, grad_fn=<MseLossBackward0>)"
      ]
     },
     "execution_count": 26,
     "metadata": {},
     "output_type": "execute_result"
    }
   ],
   "source": [
    "import torch.nn.functional as F\n",
    "F.mse_loss(input, output)"
   ]
  },
  {
   "cell_type": "code",
   "execution_count": 27,
   "metadata": {},
   "outputs": [
    {
     "data": {
      "text/plain": [
       "array([[ 1.01010447e+02,  4.20765285e+00,  7.99141865e+00, ...,\n",
       "         2.85331915e+00, -5.96637604e+00,  5.12131558e+01],\n",
       "       [ 1.01005663e+02,  6.18996742e+00,  4.38445827e+00, ...,\n",
       "         5.15021911e-01,  6.17179283e+00,  4.63594421e+01],\n",
       "       [ 1.01001966e+02,  6.73353163e+00, -2.45430772e-01, ...,\n",
       "         9.14706402e-02,  7.47155267e+00,  4.75423724e+01],\n",
       "       ...,\n",
       "       [ 1.01007318e+02,  8.32036999e+00,  6.09688235e+00, ...,\n",
       "         1.36920862e+00, -2.00677149e+00,  4.99536472e+01],\n",
       "       [ 1.00995914e+02,  6.40142941e+00, -6.82190586e-01, ...,\n",
       "         7.14585395e+00,  2.84382234e+00,  4.62880566e+01],\n",
       "       [ 1.01004203e+02,  6.44252491e+00,  3.83878308e-01, ...,\n",
       "         3.03572720e+00,  4.34195415e+00,  5.08909691e+01]])"
      ]
     },
     "execution_count": 27,
     "metadata": {},
     "output_type": "execute_result"
    }
   ],
   "source": [
    "scaler.inverse_transform(output.detach())"
   ]
  },
  {
   "cell_type": "code",
   "execution_count": 28,
   "metadata": {},
   "outputs": [
    {
     "data": {
      "text/plain": [
       "array([[100.97767136,  90.83617262, -28.18133728, ..., -90.83617262,\n",
       "         28.18133728,  30.89663198],\n",
       "       [101.05120271,  27.43679191, -95.09550229, ..., -27.43679191,\n",
       "         95.09550229, -14.28524883],\n",
       "       [101.04593388,  95.7434981 ,  27.2143253 , ..., -95.7434981 ,\n",
       "        -27.2143253 ,  -9.62098303],\n",
       "       ...,\n",
       "       [101.03738629, -76.72693233, -63.99310538, ...,  76.72693233,\n",
       "         63.99310538,   4.22612515],\n",
       "       [100.91967194, -50.57134785,  86.24701884, ...,  50.57134785,\n",
       "        -86.24701884,  -1.997712  ],\n",
       "       [100.96390777, -32.61309232,  92.62601312, ...,  32.61309232,\n",
       "        -92.62601312, -18.88935201]])"
      ]
     },
     "execution_count": 28,
     "metadata": {},
     "output_type": "execute_result"
    }
   ],
   "source": [
    "scaler.inverse_transform(input.detach())"
   ]
  },
  {
   "cell_type": "code",
   "execution_count": 29,
   "metadata": {},
   "outputs": [],
   "source": [
    "gan = models.GAN(input_shape = input_dimension)"
   ]
  },
  {
   "cell_type": "code",
   "execution_count": 30,
   "metadata": {},
   "outputs": [
    {
     "data": {
      "text/plain": [
       "(850825, 136193, 714632)"
      ]
     },
     "execution_count": 30,
     "metadata": {},
     "output_type": "execute_result"
    }
   ],
   "source": [
    "count_parameters(gan), count_parameters(gan.discriminator), count_parameters(gan.generator)"
   ]
  },
  {
   "cell_type": "code",
   "execution_count": 31,
   "metadata": {},
   "outputs": [],
   "source": [
    "def train_GAN_helper(epochs):\n",
    "    for i in range(epochs):\n",
    "\n",
    "        start_time = time.time()\n",
    "\n",
    "        d_loss_avg, g_loss_avg = 0, 0\n",
    "\n",
    "        for batch in train_dataloader:\n",
    "\n",
    "            d_loss, g_loss = gan.train_with_batch(batch.float().to(device))\n",
    "\n",
    "            d_loss_avg += d_loss / len(train_dataloader)\n",
    "            g_loss_avg += g_loss / len(train_dataloader)\n",
    "\n",
    "        print(\"Epoch:\", i+1, f\"time passed: {time.time() - start_time:.2f}s\", f\"Train Losses (avg.): discriminator={d_loss_avg:.5f}, generator={g_loss_avg:.5f}\")"
   ]
  },
  {
   "cell_type": "code",
   "execution_count": 32,
   "metadata": {},
   "outputs": [],
   "source": [
    "if train_GAN:\n",
    "    train_GAN_helper(25)\n",
    "    torch.save(gan.state_dict(), \"./saved_models/gan-25e\")"
   ]
  },
  {
   "cell_type": "code",
   "execution_count": 33,
   "metadata": {},
   "outputs": [],
   "source": [
    "gan.eval()\n",
    "gan_generated = scaler.inverse_transform(gan.generate(15_000).detach())"
   ]
  },
  {
   "cell_type": "code",
   "execution_count": 34,
   "metadata": {},
   "outputs": [
    {
     "data": {
      "text/html": [
       "<div>\n",
       "<style scoped>\n",
       "    .dataframe tbody tr th:only-of-type {\n",
       "        vertical-align: middle;\n",
       "    }\n",
       "\n",
       "    .dataframe tbody tr th {\n",
       "        vertical-align: top;\n",
       "    }\n",
       "\n",
       "    .dataframe thead th {\n",
       "        text-align: right;\n",
       "    }\n",
       "</style>\n",
       "<table border=\"1\" class=\"dataframe\">\n",
       "  <thead>\n",
       "    <tr style=\"text-align: right;\">\n",
       "      <th></th>\n",
       "      <th>0</th>\n",
       "      <th>1</th>\n",
       "      <th>2</th>\n",
       "      <th>3</th>\n",
       "      <th>4</th>\n",
       "      <th>5</th>\n",
       "      <th>6</th>\n",
       "      <th>7</th>\n",
       "    </tr>\n",
       "  </thead>\n",
       "  <tbody>\n",
       "    <tr>\n",
       "      <th>count</th>\n",
       "      <td>15000.000000</td>\n",
       "      <td>15000.000000</td>\n",
       "      <td>15000.000000</td>\n",
       "      <td>15000.000000</td>\n",
       "      <td>15000.000000</td>\n",
       "      <td>15000.000000</td>\n",
       "      <td>15000.000000</td>\n",
       "      <td>15000.000000</td>\n",
       "    </tr>\n",
       "    <tr>\n",
       "      <th>mean</th>\n",
       "      <td>100.998727</td>\n",
       "      <td>-0.107366</td>\n",
       "      <td>-0.140147</td>\n",
       "      <td>-49.788179</td>\n",
       "      <td>100.998712</td>\n",
       "      <td>-0.485030</td>\n",
       "      <td>0.450150</td>\n",
       "      <td>49.543943</td>\n",
       "    </tr>\n",
       "    <tr>\n",
       "      <th>std</th>\n",
       "      <td>0.000273</td>\n",
       "      <td>0.212975</td>\n",
       "      <td>0.255184</td>\n",
       "      <td>0.246470</td>\n",
       "      <td>0.000241</td>\n",
       "      <td>0.275490</td>\n",
       "      <td>0.268723</td>\n",
       "      <td>0.219989</td>\n",
       "    </tr>\n",
       "    <tr>\n",
       "      <th>min</th>\n",
       "      <td>100.997647</td>\n",
       "      <td>-0.950946</td>\n",
       "      <td>-1.168702</td>\n",
       "      <td>-50.692859</td>\n",
       "      <td>100.997571</td>\n",
       "      <td>-1.626733</td>\n",
       "      <td>-0.481262</td>\n",
       "      <td>48.737677</td>\n",
       "    </tr>\n",
       "    <tr>\n",
       "      <th>25%</th>\n",
       "      <td>100.998543</td>\n",
       "      <td>-0.249658</td>\n",
       "      <td>-0.311239</td>\n",
       "      <td>-49.955858</td>\n",
       "      <td>100.998551</td>\n",
       "      <td>-0.668507</td>\n",
       "      <td>0.266135</td>\n",
       "      <td>49.395723</td>\n",
       "    </tr>\n",
       "    <tr>\n",
       "      <th>50%</th>\n",
       "      <td>100.998725</td>\n",
       "      <td>-0.108580</td>\n",
       "      <td>-0.135568</td>\n",
       "      <td>-49.797740</td>\n",
       "      <td>100.998709</td>\n",
       "      <td>-0.483737</td>\n",
       "      <td>0.442964</td>\n",
       "      <td>49.542580</td>\n",
       "    </tr>\n",
       "    <tr>\n",
       "      <th>75%</th>\n",
       "      <td>100.998907</td>\n",
       "      <td>0.034465</td>\n",
       "      <td>0.034847</td>\n",
       "      <td>-49.627236</td>\n",
       "      <td>100.998873</td>\n",
       "      <td>-0.301729</td>\n",
       "      <td>0.624775</td>\n",
       "      <td>49.691434</td>\n",
       "    </tr>\n",
       "    <tr>\n",
       "      <th>max</th>\n",
       "      <td>100.999871</td>\n",
       "      <td>0.857718</td>\n",
       "      <td>0.836318</td>\n",
       "      <td>-48.741844</td>\n",
       "      <td>100.999696</td>\n",
       "      <td>0.668173</td>\n",
       "      <td>1.575689</td>\n",
       "      <td>50.405486</td>\n",
       "    </tr>\n",
       "  </tbody>\n",
       "</table>\n",
       "</div>"
      ],
      "text/plain": [
       "                  0             1             2             3             4  \\\n",
       "count  15000.000000  15000.000000  15000.000000  15000.000000  15000.000000   \n",
       "mean     100.998727     -0.107366     -0.140147    -49.788179    100.998712   \n",
       "std        0.000273      0.212975      0.255184      0.246470      0.000241   \n",
       "min      100.997647     -0.950946     -1.168702    -50.692859    100.997571   \n",
       "25%      100.998543     -0.249658     -0.311239    -49.955858    100.998551   \n",
       "50%      100.998725     -0.108580     -0.135568    -49.797740    100.998709   \n",
       "75%      100.998907      0.034465      0.034847    -49.627236    100.998873   \n",
       "max      100.999871      0.857718      0.836318    -48.741844    100.999696   \n",
       "\n",
       "                  5             6             7  \n",
       "count  15000.000000  15000.000000  15000.000000  \n",
       "mean      -0.485030      0.450150     49.543943  \n",
       "std        0.275490      0.268723      0.219989  \n",
       "min       -1.626733     -0.481262     48.737677  \n",
       "25%       -0.668507      0.266135     49.395723  \n",
       "50%       -0.483737      0.442964     49.542580  \n",
       "75%       -0.301729      0.624775     49.691434  \n",
       "max        0.668173      1.575689     50.405486  "
      ]
     },
     "execution_count": 34,
     "metadata": {},
     "output_type": "execute_result"
    }
   ],
   "source": [
    "pd.DataFrame(gan_generated).describe()"
   ]
  },
  {
   "cell_type": "code",
   "execution_count": 35,
   "metadata": {},
   "outputs": [],
   "source": [
    "dummy_data = torch.Tensor(torch.normal(0, 1, size=(15_000, latent_dim)))\n",
    "vae.eval()\n",
    "vae_generated = scaler.inverse_transform(vae.decode(dummy_data).detach())"
   ]
  },
  {
   "cell_type": "code",
   "execution_count": 36,
   "metadata": {},
   "outputs": [
    {
     "data": {
      "text/html": [
       "<div>\n",
       "<style scoped>\n",
       "    .dataframe tbody tr th:only-of-type {\n",
       "        vertical-align: middle;\n",
       "    }\n",
       "\n",
       "    .dataframe tbody tr th {\n",
       "        vertical-align: top;\n",
       "    }\n",
       "\n",
       "    .dataframe thead th {\n",
       "        text-align: right;\n",
       "    }\n",
       "</style>\n",
       "<table border=\"1\" class=\"dataframe\">\n",
       "  <thead>\n",
       "    <tr style=\"text-align: right;\">\n",
       "      <th></th>\n",
       "      <th>0</th>\n",
       "      <th>1</th>\n",
       "      <th>2</th>\n",
       "      <th>3</th>\n",
       "      <th>4</th>\n",
       "      <th>5</th>\n",
       "      <th>6</th>\n",
       "      <th>7</th>\n",
       "    </tr>\n",
       "  </thead>\n",
       "  <tbody>\n",
       "    <tr>\n",
       "      <th>count</th>\n",
       "      <td>15000.000000</td>\n",
       "      <td>15000.000000</td>\n",
       "      <td>15000.000000</td>\n",
       "      <td>15000.000000</td>\n",
       "      <td>15000.000000</td>\n",
       "      <td>15000.000000</td>\n",
       "      <td>15000.000000</td>\n",
       "      <td>15000.000000</td>\n",
       "    </tr>\n",
       "    <tr>\n",
       "      <th>mean</th>\n",
       "      <td>101.003633</td>\n",
       "      <td>6.607352</td>\n",
       "      <td>2.455530</td>\n",
       "      <td>-53.229759</td>\n",
       "      <td>100.997643</td>\n",
       "      <td>4.691672</td>\n",
       "      <td>0.749301</td>\n",
       "      <td>48.487728</td>\n",
       "    </tr>\n",
       "    <tr>\n",
       "      <th>std</th>\n",
       "      <td>0.003406</td>\n",
       "      <td>3.382686</td>\n",
       "      <td>3.640303</td>\n",
       "      <td>3.283413</td>\n",
       "      <td>0.003415</td>\n",
       "      <td>3.840356</td>\n",
       "      <td>3.409878</td>\n",
       "      <td>3.186219</td>\n",
       "    </tr>\n",
       "    <tr>\n",
       "      <th>min</th>\n",
       "      <td>100.990628</td>\n",
       "      <td>-5.387424</td>\n",
       "      <td>-12.776412</td>\n",
       "      <td>-69.031234</td>\n",
       "      <td>100.984131</td>\n",
       "      <td>-8.781057</td>\n",
       "      <td>-13.684114</td>\n",
       "      <td>35.544443</td>\n",
       "    </tr>\n",
       "    <tr>\n",
       "      <th>25%</th>\n",
       "      <td>101.001321</td>\n",
       "      <td>4.299061</td>\n",
       "      <td>0.003240</td>\n",
       "      <td>-55.398425</td>\n",
       "      <td>100.995375</td>\n",
       "      <td>2.110942</td>\n",
       "      <td>-1.571777</td>\n",
       "      <td>46.368505</td>\n",
       "    </tr>\n",
       "    <tr>\n",
       "      <th>50%</th>\n",
       "      <td>101.003630</td>\n",
       "      <td>6.602142</td>\n",
       "      <td>2.446447</td>\n",
       "      <td>-53.214163</td>\n",
       "      <td>100.997658</td>\n",
       "      <td>4.707313</td>\n",
       "      <td>0.703142</td>\n",
       "      <td>48.531014</td>\n",
       "    </tr>\n",
       "    <tr>\n",
       "      <th>75%</th>\n",
       "      <td>101.005898</td>\n",
       "      <td>8.882502</td>\n",
       "      <td>4.899012</td>\n",
       "      <td>-51.018013</td>\n",
       "      <td>100.999920</td>\n",
       "      <td>7.280812</td>\n",
       "      <td>3.071592</td>\n",
       "      <td>50.626983</td>\n",
       "    </tr>\n",
       "    <tr>\n",
       "      <th>max</th>\n",
       "      <td>101.019175</td>\n",
       "      <td>21.041895</td>\n",
       "      <td>19.817584</td>\n",
       "      <td>-39.860156</td>\n",
       "      <td>101.011252</td>\n",
       "      <td>19.198226</td>\n",
       "      <td>16.858255</td>\n",
       "      <td>62.116798</td>\n",
       "    </tr>\n",
       "  </tbody>\n",
       "</table>\n",
       "</div>"
      ],
      "text/plain": [
       "                  0             1             2             3             4  \\\n",
       "count  15000.000000  15000.000000  15000.000000  15000.000000  15000.000000   \n",
       "mean     101.003633      6.607352      2.455530    -53.229759    100.997643   \n",
       "std        0.003406      3.382686      3.640303      3.283413      0.003415   \n",
       "min      100.990628     -5.387424    -12.776412    -69.031234    100.984131   \n",
       "25%      101.001321      4.299061      0.003240    -55.398425    100.995375   \n",
       "50%      101.003630      6.602142      2.446447    -53.214163    100.997658   \n",
       "75%      101.005898      8.882502      4.899012    -51.018013    100.999920   \n",
       "max      101.019175     21.041895     19.817584    -39.860156    101.011252   \n",
       "\n",
       "                  5             6             7  \n",
       "count  15000.000000  15000.000000  15000.000000  \n",
       "mean       4.691672      0.749301     48.487728  \n",
       "std        3.840356      3.409878      3.186219  \n",
       "min       -8.781057    -13.684114     35.544443  \n",
       "25%        2.110942     -1.571777     46.368505  \n",
       "50%        4.707313      0.703142     48.531014  \n",
       "75%        7.280812      3.071592     50.626983  \n",
       "max       19.198226     16.858255     62.116798  "
      ]
     },
     "execution_count": 36,
     "metadata": {},
     "output_type": "execute_result"
    }
   ],
   "source": [
    "pd.DataFrame(vae_generated).describe()"
   ]
  },
  {
   "cell_type": "code",
   "execution_count": 37,
   "metadata": {},
   "outputs": [
    {
     "data": {
      "text/html": [
       "<div>\n",
       "<style scoped>\n",
       "    .dataframe tbody tr th:only-of-type {\n",
       "        vertical-align: middle;\n",
       "    }\n",
       "\n",
       "    .dataframe tbody tr th {\n",
       "        vertical-align: top;\n",
       "    }\n",
       "\n",
       "    .dataframe thead th {\n",
       "        text-align: right;\n",
       "    }\n",
       "</style>\n",
       "<table border=\"1\" class=\"dataframe\">\n",
       "  <thead>\n",
       "    <tr style=\"text-align: right;\">\n",
       "      <th></th>\n",
       "      <th>0</th>\n",
       "      <th>1</th>\n",
       "      <th>2</th>\n",
       "      <th>3</th>\n",
       "      <th>4</th>\n",
       "      <th>5</th>\n",
       "      <th>6</th>\n",
       "      <th>7</th>\n",
       "    </tr>\n",
       "  </thead>\n",
       "  <tbody>\n",
       "    <tr>\n",
       "      <th>count</th>\n",
       "      <td>15000.000000</td>\n",
       "      <td>15000.000000</td>\n",
       "      <td>15000.000000</td>\n",
       "      <td>15000.000000</td>\n",
       "      <td>15000.000000</td>\n",
       "      <td>15000.000000</td>\n",
       "      <td>15000.000000</td>\n",
       "      <td>15000.000000</td>\n",
       "    </tr>\n",
       "    <tr>\n",
       "      <th>mean</th>\n",
       "      <td>100.999625</td>\n",
       "      <td>-0.251671</td>\n",
       "      <td>-0.124810</td>\n",
       "      <td>-50.612889</td>\n",
       "      <td>100.999935</td>\n",
       "      <td>0.251671</td>\n",
       "      <td>0.124810</td>\n",
       "      <td>50.612889</td>\n",
       "    </tr>\n",
       "    <tr>\n",
       "      <th>std</th>\n",
       "      <td>0.049860</td>\n",
       "      <td>51.369773</td>\n",
       "      <td>51.607820</td>\n",
       "      <td>46.222633</td>\n",
       "      <td>0.050101</td>\n",
       "      <td>51.369773</td>\n",
       "      <td>51.607820</td>\n",
       "      <td>46.222633</td>\n",
       "    </tr>\n",
       "    <tr>\n",
       "      <th>min</th>\n",
       "      <td>100.805305</td>\n",
       "      <td>-99.954406</td>\n",
       "      <td>-99.988495</td>\n",
       "      <td>-100.000000</td>\n",
       "      <td>100.806001</td>\n",
       "      <td>-99.980538</td>\n",
       "      <td>-99.999600</td>\n",
       "      <td>-70.612768</td>\n",
       "    </tr>\n",
       "    <tr>\n",
       "      <th>25%</th>\n",
       "      <td>100.965652</td>\n",
       "      <td>-37.010077</td>\n",
       "      <td>-36.297777</td>\n",
       "      <td>-93.403606</td>\n",
       "      <td>100.966527</td>\n",
       "      <td>-35.451142</td>\n",
       "      <td>-35.394070</td>\n",
       "      <td>11.379495</td>\n",
       "    </tr>\n",
       "    <tr>\n",
       "      <th>50%</th>\n",
       "      <td>100.999480</td>\n",
       "      <td>0.017226</td>\n",
       "      <td>-0.051379</td>\n",
       "      <td>-65.606204</td>\n",
       "      <td>100.999942</td>\n",
       "      <td>-0.017226</td>\n",
       "      <td>0.051379</td>\n",
       "      <td>65.606204</td>\n",
       "    </tr>\n",
       "    <tr>\n",
       "      <th>75%</th>\n",
       "      <td>101.033186</td>\n",
       "      <td>35.451142</td>\n",
       "      <td>35.394070</td>\n",
       "      <td>-11.379495</td>\n",
       "      <td>101.033859</td>\n",
       "      <td>37.010077</td>\n",
       "      <td>36.297777</td>\n",
       "      <td>93.403606</td>\n",
       "    </tr>\n",
       "    <tr>\n",
       "      <th>max</th>\n",
       "      <td>101.184850</td>\n",
       "      <td>99.980538</td>\n",
       "      <td>99.999600</td>\n",
       "      <td>70.612768</td>\n",
       "      <td>101.188842</td>\n",
       "      <td>99.954406</td>\n",
       "      <td>99.988495</td>\n",
       "      <td>100.000000</td>\n",
       "    </tr>\n",
       "  </tbody>\n",
       "</table>\n",
       "</div>"
      ],
      "text/plain": [
       "                  0             1             2             3             4  \\\n",
       "count  15000.000000  15000.000000  15000.000000  15000.000000  15000.000000   \n",
       "mean     100.999625     -0.251671     -0.124810    -50.612889    100.999935   \n",
       "std        0.049860     51.369773     51.607820     46.222633      0.050101   \n",
       "min      100.805305    -99.954406    -99.988495   -100.000000    100.806001   \n",
       "25%      100.965652    -37.010077    -36.297777    -93.403606    100.966527   \n",
       "50%      100.999480      0.017226     -0.051379    -65.606204    100.999942   \n",
       "75%      101.033186     35.451142     35.394070    -11.379495    101.033859   \n",
       "max      101.184850     99.980538     99.999600     70.612768    101.188842   \n",
       "\n",
       "                  5             6             7  \n",
       "count  15000.000000  15000.000000  15000.000000  \n",
       "mean       0.251671      0.124810     50.612889  \n",
       "std       51.369773     51.607820     46.222633  \n",
       "min      -99.980538    -99.999600    -70.612768  \n",
       "25%      -35.451142    -35.394070     11.379495  \n",
       "50%       -0.017226      0.051379     65.606204  \n",
       "75%       37.010077     36.297777     93.403606  \n",
       "max       99.954406     99.988495    100.000000  "
      ]
     },
     "execution_count": 37,
     "metadata": {},
     "output_type": "execute_result"
    }
   ],
   "source": [
    "pd.DataFrame(scaler.inverse_transform(X_test)).describe()"
   ]
  },
  {
   "cell_type": "code",
   "execution_count": 38,
   "metadata": {},
   "outputs": [
    {
     "data": {
      "text/html": [
       "<div>\n",
       "<style scoped>\n",
       "    .dataframe tbody tr th:only-of-type {\n",
       "        vertical-align: middle;\n",
       "    }\n",
       "\n",
       "    .dataframe tbody tr th {\n",
       "        vertical-align: top;\n",
       "    }\n",
       "\n",
       "    .dataframe thead th {\n",
       "        text-align: right;\n",
       "    }\n",
       "</style>\n",
       "<table border=\"1\" class=\"dataframe\">\n",
       "  <thead>\n",
       "    <tr style=\"text-align: right;\">\n",
       "      <th></th>\n",
       "      <th>0</th>\n",
       "      <th>1</th>\n",
       "      <th>2</th>\n",
       "      <th>3</th>\n",
       "      <th>4</th>\n",
       "      <th>5</th>\n",
       "      <th>6</th>\n",
       "      <th>7</th>\n",
       "    </tr>\n",
       "  </thead>\n",
       "  <tbody>\n",
       "    <tr>\n",
       "      <th>count</th>\n",
       "      <td>15000.000000</td>\n",
       "      <td>15000.000000</td>\n",
       "      <td>15000.000000</td>\n",
       "      <td>15000.000000</td>\n",
       "      <td>15000.000000</td>\n",
       "      <td>15000.000000</td>\n",
       "      <td>15000.000000</td>\n",
       "      <td>15000.000000</td>\n",
       "    </tr>\n",
       "    <tr>\n",
       "      <th>mean</th>\n",
       "      <td>100.999583</td>\n",
       "      <td>0.112968</td>\n",
       "      <td>1.005752</td>\n",
       "      <td>-50.485199</td>\n",
       "      <td>100.999720</td>\n",
       "      <td>-0.128435</td>\n",
       "      <td>0.272536</td>\n",
       "      <td>51.152672</td>\n",
       "    </tr>\n",
       "    <tr>\n",
       "      <th>std</th>\n",
       "      <td>0.049495</td>\n",
       "      <td>51.483516</td>\n",
       "      <td>51.147356</td>\n",
       "      <td>46.223136</td>\n",
       "      <td>0.049224</td>\n",
       "      <td>51.471725</td>\n",
       "      <td>52.137097</td>\n",
       "      <td>45.579880</td>\n",
       "    </tr>\n",
       "    <tr>\n",
       "      <th>min</th>\n",
       "      <td>100.812811</td>\n",
       "      <td>-198.383644</td>\n",
       "      <td>-180.029885</td>\n",
       "      <td>-260.899299</td>\n",
       "      <td>100.815045</td>\n",
       "      <td>-201.867831</td>\n",
       "      <td>-176.171656</td>\n",
       "      <td>-128.984390</td>\n",
       "    </tr>\n",
       "    <tr>\n",
       "      <th>25%</th>\n",
       "      <td>100.965827</td>\n",
       "      <td>-34.962186</td>\n",
       "      <td>-33.926536</td>\n",
       "      <td>-81.401442</td>\n",
       "      <td>100.966387</td>\n",
       "      <td>-35.188081</td>\n",
       "      <td>-34.912937</td>\n",
       "      <td>20.776724</td>\n",
       "    </tr>\n",
       "    <tr>\n",
       "      <th>50%</th>\n",
       "      <td>100.999641</td>\n",
       "      <td>0.541853</td>\n",
       "      <td>0.961021</td>\n",
       "      <td>-50.265859</td>\n",
       "      <td>100.999479</td>\n",
       "      <td>0.075371</td>\n",
       "      <td>-0.272177</td>\n",
       "      <td>50.918808</td>\n",
       "    </tr>\n",
       "    <tr>\n",
       "      <th>75%</th>\n",
       "      <td>101.033475</td>\n",
       "      <td>35.192585</td>\n",
       "      <td>35.710950</td>\n",
       "      <td>-19.401305</td>\n",
       "      <td>101.032917</td>\n",
       "      <td>34.583711</td>\n",
       "      <td>35.592230</td>\n",
       "      <td>81.978589</td>\n",
       "    </tr>\n",
       "    <tr>\n",
       "      <th>max</th>\n",
       "      <td>101.202181</td>\n",
       "      <td>211.188691</td>\n",
       "      <td>185.856202</td>\n",
       "      <td>123.433865</td>\n",
       "      <td>101.186416</td>\n",
       "      <td>184.636505</td>\n",
       "      <td>257.558396</td>\n",
       "      <td>206.179208</td>\n",
       "    </tr>\n",
       "  </tbody>\n",
       "</table>\n",
       "</div>"
      ],
      "text/plain": [
       "                  0             1             2             3             4  \\\n",
       "count  15000.000000  15000.000000  15000.000000  15000.000000  15000.000000   \n",
       "mean     100.999583      0.112968      1.005752    -50.485199    100.999720   \n",
       "std        0.049495     51.483516     51.147356     46.223136      0.049224   \n",
       "min      100.812811   -198.383644   -180.029885   -260.899299    100.815045   \n",
       "25%      100.965827    -34.962186    -33.926536    -81.401442    100.966387   \n",
       "50%      100.999641      0.541853      0.961021    -50.265859    100.999479   \n",
       "75%      101.033475     35.192585     35.710950    -19.401305    101.032917   \n",
       "max      101.202181    211.188691    185.856202    123.433865    101.186416   \n",
       "\n",
       "                  5             6             7  \n",
       "count  15000.000000  15000.000000  15000.000000  \n",
       "mean      -0.128435      0.272536     51.152672  \n",
       "std       51.471725     52.137097     45.579880  \n",
       "min     -201.867831   -176.171656   -128.984390  \n",
       "25%      -35.188081    -34.912937     20.776724  \n",
       "50%        0.075371     -0.272177     50.918808  \n",
       "75%       34.583711     35.592230     81.978589  \n",
       "max      184.636505    257.558396    206.179208  "
      ]
     },
     "execution_count": 38,
     "metadata": {},
     "output_type": "execute_result"
    }
   ],
   "source": [
    "pd.DataFrame(scaler.inverse_transform(np.random.normal(0, 1, size=(15_000, 8)))).describe()"
   ]
  },
  {
   "cell_type": "code",
   "execution_count": 42,
   "metadata": {},
   "outputs": [],
   "source": [
    "# https://gebob19.github.io/normalizing-flows/\n",
    "d = 8\n",
    "k = 4\n",
    "NF_model = models.stacked_NVP(d, k, hidden=512, n=3)\n",
    "NF_optim = torch.optim.Adam(NF_model.parameters(), lr=1e-3)\n",
    "nf_scheduler = torch.optim.lr_scheduler.ExponentialLR(NF_optim, 0.999)\n",
    "n_samples = 512"
   ]
  },
  {
   "cell_type": "code",
   "execution_count": 49,
   "metadata": {},
   "outputs": [],
   "source": [
    "single_NF_model = models.R_NVP(d, k, hidden=512)"
   ]
  },
  {
   "cell_type": "code",
   "execution_count": 43,
   "metadata": {},
   "outputs": [],
   "source": [
    "def train_NF(model, epochs, optim, scheduler):\n",
    "    losses = []\n",
    "    for i in range(epochs):\n",
    "        start_time = time.time()\n",
    "        loss_avg = 0\n",
    "        # get batch \n",
    "        for batch in train_dataloader:\n",
    "            optim.zero_grad()\n",
    "            z, log_pz, log_jacob = model(batch.float().to(device))\n",
    "            loss = (-log_pz - log_jacob).mean()\n",
    "            losses.append(loss)\n",
    "            loss_avg += (loss / len(train_dataloader))\n",
    "            loss.backward()\n",
    "            optim.step()\n",
    "            scheduler.step()\n",
    "        print(\"Epoch:\", i+1, f\"time passed: {time.time() - start_time:.2f}s\", f\"Train Losses (avg.): {loss_avg:.5f}\")\n",
    "    return losses"
   ]
  },
  {
   "cell_type": "code",
   "execution_count": 44,
   "metadata": {},
   "outputs": [
    {
     "name": "stdout",
     "output_type": "stream",
     "text": [
      "Epoch: 1 time passed: 5.54s Train Losses (avg.): -0.92002\n",
      "Epoch: 2 time passed: 5.69s Train Losses (avg.): -4.18843\n",
      "Epoch: 3 time passed: 5.38s Train Losses (avg.): -5.75667\n",
      "Epoch: 4 time passed: 5.33s Train Losses (avg.): -6.69806\n",
      "Epoch: 5 time passed: 5.91s Train Losses (avg.): -7.39400\n",
      "Epoch: 6 time passed: 5.55s Train Losses (avg.): -7.77006\n",
      "Epoch: 7 time passed: 5.28s Train Losses (avg.): -8.10853\n",
      "Epoch: 8 time passed: 4.81s Train Losses (avg.): -8.35819\n",
      "Epoch: 9 time passed: 5.82s Train Losses (avg.): -8.50338\n",
      "Epoch: 10 time passed: 5.02s Train Losses (avg.): -8.63756\n",
      "Epoch: 11 time passed: 5.95s Train Losses (avg.): -8.74871\n",
      "Epoch: 12 time passed: 6.00s Train Losses (avg.): -8.80212\n",
      "Epoch: 13 time passed: 6.19s Train Losses (avg.): -8.85033\n",
      "Epoch: 14 time passed: 6.26s Train Losses (avg.): -8.89175\n",
      "Epoch: 15 time passed: 6.19s Train Losses (avg.): -8.92553\n",
      "Epoch: 16 time passed: 6.67s Train Losses (avg.): -8.94992\n",
      "Epoch: 17 time passed: 7.20s Train Losses (avg.): -8.96277\n",
      "Epoch: 18 time passed: 6.50s Train Losses (avg.): -8.97385\n",
      "Epoch: 19 time passed: 6.73s Train Losses (avg.): -8.98439\n",
      "Epoch: 20 time passed: 5.39s Train Losses (avg.): -8.98917\n",
      "Epoch: 21 time passed: 5.03s Train Losses (avg.): -8.99296\n",
      "Epoch: 22 time passed: 6.54s Train Losses (avg.): -9.00671\n",
      "Epoch: 23 time passed: 6.03s Train Losses (avg.): -9.00247\n",
      "Epoch: 24 time passed: 5.99s Train Losses (avg.): -9.00481\n",
      "Epoch: 25 time passed: 6.38s Train Losses (avg.): -8.99033\n"
     ]
    }
   ],
   "source": [
    "if train_NF:\n",
    "    losses = train_NF(NF_model, 25, NF_optim, nf_scheduler)"
   ]
  },
  {
   "cell_type": "code",
   "execution_count": 65,
   "metadata": {},
   "outputs": [],
   "source": [
    "import matplotlib.pyplot as plt\n",
    "def view(model, losses):\n",
    "    plt.plot(losses)\n",
    "    plt.title(\"Model Loss vs Epoch\")\n",
    "    plt.xlabel('Epochs')\n",
    "    plt.ylabel('Loss')\n",
    "    plt.show()\n",
    "\n",
    "    Z = single_NF_model.base_dist.rsample(sample_shape=(15000,))\n",
    "    X_hat = model.inverse(Z).detach().numpy()\n",
    "    plt.scatter(X_hat[:, 0], X_hat[:, 1])\n",
    "    plt.title(\"Inverse of Normal Samples Z: X = F^-1(Z)\")\n",
    "    plt.show()\n",
    "\n",
    "    plt.scatter(X_test[:, 0], X_test[:, 1])\n",
    "    plt.title(\"Test Data\")\n",
    "    plt.show()\n",
    "\n",
    "    return X_hat"
   ]
  },
  {
   "cell_type": "code",
   "execution_count": 66,
   "metadata": {},
   "outputs": [
    {
     "data": {
      "image/png": "[encoded data removed]",
      "text/plain": [
       "<Figure size 432x288 with 1 Axes>"
      ]
     },
     "metadata": {
      "needs_background": "light"
     },
     "output_type": "display_data"
    },
    {
     "data": {
      "image/png": "[encoded data removed]",
      "text/plain": [
       "<Figure size 432x288 with 1 Axes>"
      ]
     },
     "metadata": {
      "needs_background": "light"
     },
     "output_type": "display_data"
    },
    {
     "data": {
      "image/png": "[encoded data removed]",
      "text/plain": [
       "<Figure size 432x288 with 1 Axes>"
      ]
     },
     "metadata": {
      "needs_background": "light"
     },
     "output_type": "display_data"
    }
   ],
   "source": [
    "NF_generated = view(NF_model, list(map(lambda x : x.detach().numpy(), losses)))"
   ]
  },
  {
   "cell_type": "code",
   "execution_count": 67,
   "metadata": {},
   "outputs": [
    {
     "data": {
      "text/html": [
       "<div>\n",
       "<style scoped>\n",
       "    .dataframe tbody tr th:only-of-type {\n",
       "        vertical-align: middle;\n",
       "    }\n",
       "\n",
       "    .dataframe tbody tr th {\n",
       "        vertical-align: top;\n",
       "    }\n",
       "\n",
       "    .dataframe thead th {\n",
       "        text-align: right;\n",
       "    }\n",
       "</style>\n",
       "<table border=\"1\" class=\"dataframe\">\n",
       "  <thead>\n",
       "    <tr style=\"text-align: right;\">\n",
       "      <th></th>\n",
       "      <th>0</th>\n",
       "      <th>1</th>\n",
       "      <th>2</th>\n",
       "      <th>3</th>\n",
       "      <th>4</th>\n",
       "      <th>5</th>\n",
       "      <th>6</th>\n",
       "      <th>7</th>\n",
       "    </tr>\n",
       "  </thead>\n",
       "  <tbody>\n",
       "    <tr>\n",
       "      <th>count</th>\n",
       "      <td>15000.000000</td>\n",
       "      <td>15000.000000</td>\n",
       "      <td>15000.000000</td>\n",
       "      <td>15000.000000</td>\n",
       "      <td>15000.000000</td>\n",
       "      <td>15000.000000</td>\n",
       "      <td>15000.000000</td>\n",
       "      <td>15000.000000</td>\n",
       "    </tr>\n",
       "    <tr>\n",
       "      <th>mean</th>\n",
       "      <td>100.983727</td>\n",
       "      <td>2.754779</td>\n",
       "      <td>-0.259204</td>\n",
       "      <td>-43.710365</td>\n",
       "      <td>101.008118</td>\n",
       "      <td>-2.730639</td>\n",
       "      <td>0.455620</td>\n",
       "      <td>43.257168</td>\n",
       "    </tr>\n",
       "    <tr>\n",
       "      <th>std</th>\n",
       "      <td>0.068463</td>\n",
       "      <td>49.849991</td>\n",
       "      <td>44.267429</td>\n",
       "      <td>51.845772</td>\n",
       "      <td>0.274442</td>\n",
       "      <td>50.508751</td>\n",
       "      <td>44.574776</td>\n",
       "      <td>53.319489</td>\n",
       "    </tr>\n",
       "    <tr>\n",
       "      <th>min</th>\n",
       "      <td>100.758675</td>\n",
       "      <td>-101.663467</td>\n",
       "      <td>-104.873833</td>\n",
       "      <td>-101.169136</td>\n",
       "      <td>100.764320</td>\n",
       "      <td>-103.166435</td>\n",
       "      <td>-111.219002</td>\n",
       "      <td>-90.959244</td>\n",
       "    </tr>\n",
       "    <tr>\n",
       "      <th>25%</th>\n",
       "      <td>100.933588</td>\n",
       "      <td>-32.069183</td>\n",
       "      <td>-30.156458</td>\n",
       "      <td>-88.552847</td>\n",
       "      <td>100.916700</td>\n",
       "      <td>-40.386290</td>\n",
       "      <td>-29.971049</td>\n",
       "      <td>2.053146</td>\n",
       "    </tr>\n",
       "    <tr>\n",
       "      <th>50%</th>\n",
       "      <td>100.980354</td>\n",
       "      <td>4.013311</td>\n",
       "      <td>0.380720</td>\n",
       "      <td>-62.566345</td>\n",
       "      <td>100.958904</td>\n",
       "      <td>-4.247788</td>\n",
       "      <td>0.126491</td>\n",
       "      <td>63.619471</td>\n",
       "    </tr>\n",
       "    <tr>\n",
       "      <th>75%</th>\n",
       "      <td>101.031652</td>\n",
       "      <td>39.562526</td>\n",
       "      <td>29.921264</td>\n",
       "      <td>-3.573099</td>\n",
       "      <td>101.027411</td>\n",
       "      <td>32.982914</td>\n",
       "      <td>30.672843</td>\n",
       "      <td>89.279781</td>\n",
       "    </tr>\n",
       "    <tr>\n",
       "      <th>max</th>\n",
       "      <td>101.208893</td>\n",
       "      <td>103.383698</td>\n",
       "      <td>113.597099</td>\n",
       "      <td>79.766327</td>\n",
       "      <td>113.269226</td>\n",
       "      <td>102.562813</td>\n",
       "      <td>102.914604</td>\n",
       "      <td>101.045692</td>\n",
       "    </tr>\n",
       "  </tbody>\n",
       "</table>\n",
       "</div>"
      ],
      "text/plain": [
       "                  0             1             2             3             4  \\\n",
       "count  15000.000000  15000.000000  15000.000000  15000.000000  15000.000000   \n",
       "mean     100.983727      2.754779     -0.259204    -43.710365    101.008118   \n",
       "std        0.068463     49.849991     44.267429     51.845772      0.274442   \n",
       "min      100.758675   -101.663467   -104.873833   -101.169136    100.764320   \n",
       "25%      100.933588    -32.069183    -30.156458    -88.552847    100.916700   \n",
       "50%      100.980354      4.013311      0.380720    -62.566345    100.958904   \n",
       "75%      101.031652     39.562526     29.921264     -3.573099    101.027411   \n",
       "max      101.208893    103.383698    113.597099     79.766327    113.269226   \n",
       "\n",
       "                  5             6             7  \n",
       "count  15000.000000  15000.000000  15000.000000  \n",
       "mean      -2.730639      0.455620     43.257168  \n",
       "std       50.508751     44.574776     53.319489  \n",
       "min     -103.166435   -111.219002    -90.959244  \n",
       "25%      -40.386290    -29.971049      2.053146  \n",
       "50%       -4.247788      0.126491     63.619471  \n",
       "75%       32.982914     30.672843     89.279781  \n",
       "max      102.562813    102.914604    101.045692  "
      ]
     },
     "execution_count": 67,
     "metadata": {},
     "output_type": "execute_result"
    }
   ],
   "source": [
    "pd.DataFrame(scaler.inverse_transform(NF_generated)).describe()"
   ]
  },
  {
   "cell_type": "code",
   "execution_count": 68,
   "metadata": {},
   "outputs": [
    {
     "data": {
      "text/html": [
       "<div>\n",
       "<style scoped>\n",
       "    .dataframe tbody tr th:only-of-type {\n",
       "        vertical-align: middle;\n",
       "    }\n",
       "\n",
       "    .dataframe tbody tr th {\n",
       "        vertical-align: top;\n",
       "    }\n",
       "\n",
       "    .dataframe thead th {\n",
       "        text-align: right;\n",
       "    }\n",
       "</style>\n",
       "<table border=\"1\" class=\"dataframe\">\n",
       "  <thead>\n",
       "    <tr style=\"text-align: right;\">\n",
       "      <th></th>\n",
       "      <th>0</th>\n",
       "      <th>1</th>\n",
       "      <th>2</th>\n",
       "      <th>3</th>\n",
       "      <th>4</th>\n",
       "      <th>5</th>\n",
       "      <th>6</th>\n",
       "      <th>7</th>\n",
       "    </tr>\n",
       "  </thead>\n",
       "  <tbody>\n",
       "    <tr>\n",
       "      <th>count</th>\n",
       "      <td>15000.000000</td>\n",
       "      <td>15000.000000</td>\n",
       "      <td>15000.000000</td>\n",
       "      <td>15000.000000</td>\n",
       "      <td>15000.000000</td>\n",
       "      <td>15000.000000</td>\n",
       "      <td>15000.000000</td>\n",
       "      <td>15000.000000</td>\n",
       "    </tr>\n",
       "    <tr>\n",
       "      <th>mean</th>\n",
       "      <td>100.999625</td>\n",
       "      <td>-0.251671</td>\n",
       "      <td>-0.124810</td>\n",
       "      <td>-50.612889</td>\n",
       "      <td>100.999935</td>\n",
       "      <td>0.251671</td>\n",
       "      <td>0.124810</td>\n",
       "      <td>50.612889</td>\n",
       "    </tr>\n",
       "    <tr>\n",
       "      <th>std</th>\n",
       "      <td>0.049860</td>\n",
       "      <td>51.369773</td>\n",
       "      <td>51.607820</td>\n",
       "      <td>46.222633</td>\n",
       "      <td>0.050101</td>\n",
       "      <td>51.369773</td>\n",
       "      <td>51.607820</td>\n",
       "      <td>46.222633</td>\n",
       "    </tr>\n",
       "    <tr>\n",
       "      <th>min</th>\n",
       "      <td>100.805305</td>\n",
       "      <td>-99.954406</td>\n",
       "      <td>-99.988495</td>\n",
       "      <td>-100.000000</td>\n",
       "      <td>100.806001</td>\n",
       "      <td>-99.980538</td>\n",
       "      <td>-99.999600</td>\n",
       "      <td>-70.612768</td>\n",
       "    </tr>\n",
       "    <tr>\n",
       "      <th>25%</th>\n",
       "      <td>100.965652</td>\n",
       "      <td>-37.010077</td>\n",
       "      <td>-36.297777</td>\n",
       "      <td>-93.403606</td>\n",
       "      <td>100.966527</td>\n",
       "      <td>-35.451142</td>\n",
       "      <td>-35.394070</td>\n",
       "      <td>11.379495</td>\n",
       "    </tr>\n",
       "    <tr>\n",
       "      <th>50%</th>\n",
       "      <td>100.999480</td>\n",
       "      <td>0.017226</td>\n",
       "      <td>-0.051379</td>\n",
       "      <td>-65.606204</td>\n",
       "      <td>100.999942</td>\n",
       "      <td>-0.017226</td>\n",
       "      <td>0.051379</td>\n",
       "      <td>65.606204</td>\n",
       "    </tr>\n",
       "    <tr>\n",
       "      <th>75%</th>\n",
       "      <td>101.033186</td>\n",
       "      <td>35.451142</td>\n",
       "      <td>35.394070</td>\n",
       "      <td>-11.379495</td>\n",
       "      <td>101.033859</td>\n",
       "      <td>37.010077</td>\n",
       "      <td>36.297777</td>\n",
       "      <td>93.403606</td>\n",
       "    </tr>\n",
       "    <tr>\n",
       "      <th>max</th>\n",
       "      <td>101.184850</td>\n",
       "      <td>99.980538</td>\n",
       "      <td>99.999600</td>\n",
       "      <td>70.612768</td>\n",
       "      <td>101.188842</td>\n",
       "      <td>99.954406</td>\n",
       "      <td>99.988495</td>\n",
       "      <td>100.000000</td>\n",
       "    </tr>\n",
       "  </tbody>\n",
       "</table>\n",
       "</div>"
      ],
      "text/plain": [
       "                  0             1             2             3             4  \\\n",
       "count  15000.000000  15000.000000  15000.000000  15000.000000  15000.000000   \n",
       "mean     100.999625     -0.251671     -0.124810    -50.612889    100.999935   \n",
       "std        0.049860     51.369773     51.607820     46.222633      0.050101   \n",
       "min      100.805305    -99.954406    -99.988495   -100.000000    100.806001   \n",
       "25%      100.965652    -37.010077    -36.297777    -93.403606    100.966527   \n",
       "50%      100.999480      0.017226     -0.051379    -65.606204    100.999942   \n",
       "75%      101.033186     35.451142     35.394070    -11.379495    101.033859   \n",
       "max      101.184850     99.980538     99.999600     70.612768    101.188842   \n",
       "\n",
       "                  5             6             7  \n",
       "count  15000.000000  15000.000000  15000.000000  \n",
       "mean       0.251671      0.124810     50.612889  \n",
       "std       51.369773     51.607820     46.222633  \n",
       "min      -99.980538    -99.999600    -70.612768  \n",
       "25%      -35.451142    -35.394070     11.379495  \n",
       "50%       -0.017226      0.051379     65.606204  \n",
       "75%       37.010077     36.297777     93.403606  \n",
       "max       99.954406     99.988495    100.000000  "
      ]
     },
     "execution_count": 68,
     "metadata": {},
     "output_type": "execute_result"
    }
   ],
   "source": [
    "pd.DataFrame(scaler.inverse_transform(X_test)).describe()"
   ]
  },
  {
   "cell_type": "code",
   "execution_count": 69,
   "metadata": {},
   "outputs": [],
   "source": [
    "from sklearn.metrics import mean_squared_error"
   ]
  },
  {
   "cell_type": "code",
   "execution_count": 70,
   "metadata": {},
   "outputs": [],
   "source": [
    "def rmse(generated):\n",
    "    return mean_squared_error(scaler.inverse_transform(generated), scaler.inverse_transform(X_test))"
   ]
  },
  {
   "cell_type": "code",
   "execution_count": 71,
   "metadata": {},
   "outputs": [
    {
     "name": "stdout",
     "output_type": "stream",
     "text": [
      "3679.8380062760016\n",
      "1420730.6692090658\n",
      "1308250.736564918\n"
     ]
    }
   ],
   "source": [
    "print(rmse(NF_generated))\n",
    "print(rmse(vae_generated))\n",
    "print(rmse(gan_generated))"
   ]
  },
  {
   "cell_type": "code",
   "execution_count": null,
   "metadata": {},
   "outputs": [],
   "source": []
  }
 ],
 "metadata": {
  "kernelspec": {
   "display_name": "Python 3.8.5 64-bit",
   "language": "python",
   "name": "python3"
  },
  "language_info": {
   "codemirror_mode": {
    "name": "ipython",
    "version": 3
   },
   "file_extension": ".py",
   "mimetype": "text/x-python",
   "name": "python",
   "nbconvert_exporter": "python",
   "pygments_lexer": "ipython3",
   "version": "3.8.5"
  },
  "orig_nbformat": 4,
  "vscode": {
   "interpreter": {
    "hash": "570feb405e2e27c949193ac68f46852414290d515b0ba6e5d90d076ed2284471"
   }
  }
 },
 "nbformat": 4,
 "nbformat_minor": 2
}
