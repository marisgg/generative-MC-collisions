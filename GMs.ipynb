{
 "cells": [
  {
   "cell_type": "code",
   "execution_count": 1,
   "metadata": {},
   "outputs": [],
   "source": [
    "import numpy as np\n",
    "import pandas as pd"
   ]
  },
  {
   "cell_type": "code",
   "execution_count": 2,
   "metadata": {},
   "outputs": [],
   "source": [
    "import torch\n",
    "from torch.utils.data import Dataset, DataLoader"
   ]
  },
  {
   "cell_type": "code",
   "execution_count": 3,
   "metadata": {},
   "outputs": [],
   "source": [
    "import models"
   ]
  },
  {
   "cell_type": "code",
   "execution_count": 58,
   "metadata": {},
   "outputs": [],
   "source": [
    "import os\n",
    "os.makedirs(\"./saved_models/\", exist_ok=True)"
   ]
  },
  {
   "cell_type": "code",
   "execution_count": 4,
   "metadata": {},
   "outputs": [],
   "source": [
    "train_VAE = True\n",
    "train_GAN = False"
   ]
  },
  {
   "cell_type": "code",
   "execution_count": 5,
   "metadata": {},
   "outputs": [],
   "source": [
    "E = 200 # GeV\n",
    "M = 114 # GeV\n",
    "c = 1"
   ]
  },
  {
   "cell_type": "code",
   "execution_count": 6,
   "metadata": {},
   "outputs": [],
   "source": [
    "# input_dimension = 50\n",
    "# data = np.random.beta(1, 2, (100_000, input_dimension))"
   ]
  },
  {
   "cell_type": "code",
   "execution_count": 7,
   "metadata": {},
   "outputs": [],
   "source": [
    "data = np.loadtxt(\"data/events.txt\")\n",
    "\n",
    "# Delete Energy (E) entries\n",
    "# data = np.delete(data, [0, 4], axis=1)\n",
    "\n",
    "# Delete theta and phi\n",
    "data = np.delete(data, [8, 9], axis=1)\n",
    "input_dimension = data.shape[1]"
   ]
  },
  {
   "cell_type": "code",
   "execution_count": 8,
   "metadata": {},
   "outputs": [
    {
     "data": {
      "text/plain": [
       "(25.24994401635484, 66.4280034159734)"
      ]
     },
     "execution_count": 8,
     "metadata": {},
     "output_type": "execute_result"
    }
   ],
   "source": [
    "data.mean(), data.std()"
   ]
  },
  {
   "cell_type": "code",
   "execution_count": 9,
   "metadata": {},
   "outputs": [
    {
     "data": {
      "text/plain": [
       "(100000, 8)"
      ]
     },
     "execution_count": 9,
     "metadata": {},
     "output_type": "execute_result"
    }
   ],
   "source": [
    "data.shape"
   ]
  },
  {
   "cell_type": "code",
   "execution_count": 10,
   "metadata": {},
   "outputs": [],
   "source": [
    "latent_dim = 100\n",
    "device = 'cuda' if torch.cuda.is_available() else 'cpu'\n",
    "vae = models.VAE(input_dimension, latent_dim, device=device).to(device)\n",
    "vae_optimizer = torch.optim.Adam(vae.parameters(), lr=1e-3) \n"
   ]
  },
  {
   "cell_type": "code",
   "execution_count": 11,
   "metadata": {},
   "outputs": [
    {
     "name": "stdout",
     "output_type": "stream",
     "text": [
      "cpu {'lr': 0.001, 'betas': (0.9, 0.999), 'eps': 1e-08, 'weight_decay': 0, 'amsgrad': False}\n"
     ]
    }
   ],
   "source": [
    "print(device, vae_optimizer.defaults)"
   ]
  },
  {
   "cell_type": "code",
   "execution_count": 12,
   "metadata": {},
   "outputs": [
    {
     "data": {
      "text/plain": [
       "1365208"
      ]
     },
     "execution_count": 12,
     "metadata": {},
     "output_type": "execute_result"
    }
   ],
   "source": [
    "def count_parameters(model):\n",
    "    return sum(p.numel() for p in model.parameters() if p.requires_grad)\n",
    "count_parameters(vae)"
   ]
  },
  {
   "cell_type": "code",
   "execution_count": 13,
   "metadata": {},
   "outputs": [],
   "source": [
    "class PCDataset(Dataset):\n",
    "    def __init__(self, data, transform=None):\n",
    "        self.data = data\n",
    "        self.transform = transform\n",
    "\n",
    "    def __len__(self):\n",
    "        return len(self.data)\n",
    "\n",
    "    def __getitem__(self, idx):\n",
    "        item = self.data[idx]\n",
    "        if self.transform:\n",
    "            item = self.transform(item)\n",
    "        return item"
   ]
  },
  {
   "cell_type": "code",
   "execution_count": 14,
   "metadata": {},
   "outputs": [],
   "source": [
    "from sklearn.model_selection import train_test_split\n",
    "from sklearn.preprocessing import StandardScaler\n",
    "X_train, X_test = train_test_split(data, test_size=0.15, random_state=42)\n",
    "scaler = StandardScaler().fit(X_train)\n",
    "X_train = scaler.transform(X_train)\n",
    "X_test = scaler.transform(X_test)"
   ]
  },
  {
   "cell_type": "code",
   "execution_count": 15,
   "metadata": {},
   "outputs": [
    {
     "name": "stdout",
     "output_type": "stream",
     "text": [
      "4.988028616292231e-12 0.9999999999999999\n",
      "2.5556058295948083e-05 1.0032579828462234\n"
     ]
    }
   ],
   "source": [
    "print(X_train.mean(), X_train.std())\n",
    "print(X_test.mean(), X_test.std())"
   ]
  },
  {
   "cell_type": "code",
   "execution_count": 16,
   "metadata": {},
   "outputs": [],
   "source": [
    "train_dataset = PCDataset(X_train)\n",
    "val_dataset = PCDataset(X_test)"
   ]
  },
  {
   "cell_type": "code",
   "execution_count": 17,
   "metadata": {},
   "outputs": [],
   "source": [
    "train_dataloader = DataLoader(train_dataset, batch_size=256, shuffle=True)\n",
    "test_dataloader = DataLoader(val_dataset, batch_size=256, shuffle=True)"
   ]
  },
  {
   "cell_type": "code",
   "execution_count": 18,
   "metadata": {},
   "outputs": [],
   "source": [
    "import time"
   ]
  },
  {
   "cell_type": "code",
   "execution_count": 19,
   "metadata": {},
   "outputs": [],
   "source": [
    "def train_VAE_helper(epochs):\n",
    "    vae.train()\n",
    "\n",
    "    for i in range(epochs):\n",
    "\n",
    "        start_time = time.time()\n",
    "\n",
    "        vae_loss_avg, recon_loss_avg, KL_loss_avg = 0, 0, 0\n",
    "\n",
    "        for batch in train_dataloader:\n",
    "\n",
    "            vae_loss, recon_loss, KL_loss = vae.loss_function(batch.float().to(device))\n",
    "\n",
    "            vae_loss_avg += vae_loss.detach().cpu().numpy() / len(train_dataloader)\n",
    "            recon_loss_avg += recon_loss.detach().cpu().numpy() / len(train_dataloader)\n",
    "            KL_loss_avg += KL_loss.detach().cpu().numpy() / len(train_dataloader)\n",
    "\n",
    "            vae_optimizer.zero_grad()\n",
    "            vae_loss.backward()\n",
    "            vae_optimizer.step()\n",
    "\n",
    "        print(\"Epoch:\", i, f\"time passed: {time.time() - start_time:.2f}s\", f\"Train Losses (avg.): {vae_loss_avg:.5f}, {recon_loss_avg:.5f}, {KL_loss_avg:.5f}\")"
   ]
  },
  {
   "cell_type": "code",
   "execution_count": 20,
   "metadata": {},
   "outputs": [
    {
     "name": "stdout",
     "output_type": "stream",
     "text": [
      "Epoch: 0 time passed: 12.153722524642944s Train Losses (avg.): 0.14633, 0.06960, 0.15345\n",
      "Epoch: 1 time passed: 12.804848194122314s Train Losses (avg.): 0.07340, 0.02026, 0.10628\n",
      "Epoch: 2 time passed: 13.565009832382202s Train Losses (avg.): 0.06923, 0.01767, 0.10311\n",
      "Epoch: 3 time passed: 13.57044243812561s Train Losses (avg.): 0.06812, 0.01709, 0.10207\n",
      "Epoch: 4 time passed: 13.957868814468384s Train Losses (avg.): 0.06749, 0.01680, 0.10138\n"
     ]
    }
   ],
   "source": [
    "if train_VAE:\n",
    "    train_VAE_helper(25)\n",
    "    torch.save(vae.state_dict(), \"./saved_models/vae-25e\")"
   ]
  },
  {
   "cell_type": "code",
   "execution_count": 21,
   "metadata": {},
   "outputs": [
    {
     "data": {
      "text/html": [
       "<div>\n",
       "<style scoped>\n",
       "    .dataframe tbody tr th:only-of-type {\n",
       "        vertical-align: middle;\n",
       "    }\n",
       "\n",
       "    .dataframe tbody tr th {\n",
       "        vertical-align: top;\n",
       "    }\n",
       "\n",
       "    .dataframe thead th {\n",
       "        text-align: right;\n",
       "    }\n",
       "</style>\n",
       "<table border=\"1\" class=\"dataframe\">\n",
       "  <thead>\n",
       "    <tr style=\"text-align: right;\">\n",
       "      <th></th>\n",
       "      <th>0</th>\n",
       "      <th>1</th>\n",
       "      <th>2</th>\n",
       "      <th>3</th>\n",
       "      <th>4</th>\n",
       "      <th>5</th>\n",
       "      <th>6</th>\n",
       "      <th>7</th>\n",
       "    </tr>\n",
       "  </thead>\n",
       "  <tbody>\n",
       "    <tr>\n",
       "      <th>count</th>\n",
       "      <td>8.500000e+04</td>\n",
       "      <td>8.500000e+04</td>\n",
       "      <td>8.500000e+04</td>\n",
       "      <td>8.500000e+04</td>\n",
       "      <td>8.500000e+04</td>\n",
       "      <td>8.500000e+04</td>\n",
       "      <td>8.500000e+04</td>\n",
       "      <td>8.500000e+04</td>\n",
       "    </tr>\n",
       "    <tr>\n",
       "      <th>mean</th>\n",
       "      <td>4.118267e-11</td>\n",
       "      <td>2.825452e-17</td>\n",
       "      <td>-4.965440e-17</td>\n",
       "      <td>-7.638784e-15</td>\n",
       "      <td>-1.278439e-12</td>\n",
       "      <td>-2.825452e-17</td>\n",
       "      <td>4.965440e-17</td>\n",
       "      <td>7.638784e-15</td>\n",
       "    </tr>\n",
       "    <tr>\n",
       "      <th>std</th>\n",
       "      <td>1.000006e+00</td>\n",
       "      <td>1.000006e+00</td>\n",
       "      <td>1.000006e+00</td>\n",
       "      <td>1.000006e+00</td>\n",
       "      <td>1.000006e+00</td>\n",
       "      <td>1.000006e+00</td>\n",
       "      <td>1.000006e+00</td>\n",
       "      <td>1.000006e+00</td>\n",
       "    </tr>\n",
       "    <tr>\n",
       "      <th>min</th>\n",
       "      <td>-4.049064e+00</td>\n",
       "      <td>-1.946276e+00</td>\n",
       "      <td>-1.952758e+00</td>\n",
       "      <td>-1.065234e+00</td>\n",
       "      <td>-4.343428e+00</td>\n",
       "      <td>-1.946913e+00</td>\n",
       "      <td>-1.936472e+00</td>\n",
       "      <td>-2.781868e+00</td>\n",
       "    </tr>\n",
       "    <tr>\n",
       "      <th>25%</th>\n",
       "      <td>-6.769501e-01</td>\n",
       "      <td>-6.963382e-01</td>\n",
       "      <td>-7.025040e-01</td>\n",
       "      <td>-9.202029e-01</td>\n",
       "      <td>-6.740192e-01</td>\n",
       "      <td>-6.998756e-01</td>\n",
       "      <td>-6.994429e-01</td>\n",
       "      <td>-8.392746e-01</td>\n",
       "    </tr>\n",
       "    <tr>\n",
       "      <th>50%</th>\n",
       "      <td>1.601171e-03</td>\n",
       "      <td>8.194046e-04</td>\n",
       "      <td>-2.646193e-03</td>\n",
       "      <td>-3.354269e-01</td>\n",
       "      <td>1.623124e-03</td>\n",
       "      <td>-8.194046e-04</td>\n",
       "      <td>2.646193e-03</td>\n",
       "      <td>3.354269e-01</td>\n",
       "    </tr>\n",
       "    <tr>\n",
       "      <th>75%</th>\n",
       "      <td>6.771499e-01</td>\n",
       "      <td>6.998756e-01</td>\n",
       "      <td>6.994429e-01</td>\n",
       "      <td>8.392746e-01</td>\n",
       "      <td>6.755138e-01</td>\n",
       "      <td>6.963382e-01</td>\n",
       "      <td>7.025040e-01</td>\n",
       "      <td>9.202029e-01</td>\n",
       "    </tr>\n",
       "    <tr>\n",
       "      <th>max</th>\n",
       "      <td>4.266014e+00</td>\n",
       "      <td>1.946913e+00</td>\n",
       "      <td>1.936472e+00</td>\n",
       "      <td>2.781868e+00</td>\n",
       "      <td>4.197578e+00</td>\n",
       "      <td>1.946276e+00</td>\n",
       "      <td>1.952758e+00</td>\n",
       "      <td>1.065234e+00</td>\n",
       "    </tr>\n",
       "  </tbody>\n",
       "</table>\n",
       "</div>"
      ],
      "text/plain": [
       "                  0             1             2             3             4  \\\n",
       "count  8.500000e+04  8.500000e+04  8.500000e+04  8.500000e+04  8.500000e+04   \n",
       "mean   4.118267e-11  2.825452e-17 -4.965440e-17 -7.638784e-15 -1.278439e-12   \n",
       "std    1.000006e+00  1.000006e+00  1.000006e+00  1.000006e+00  1.000006e+00   \n",
       "min   -4.049064e+00 -1.946276e+00 -1.952758e+00 -1.065234e+00 -4.343428e+00   \n",
       "25%   -6.769501e-01 -6.963382e-01 -7.025040e-01 -9.202029e-01 -6.740192e-01   \n",
       "50%    1.601171e-03  8.194046e-04 -2.646193e-03 -3.354269e-01  1.623124e-03   \n",
       "75%    6.771499e-01  6.998756e-01  6.994429e-01  8.392746e-01  6.755138e-01   \n",
       "max    4.266014e+00  1.946913e+00  1.936472e+00  2.781868e+00  4.197578e+00   \n",
       "\n",
       "                  5             6             7  \n",
       "count  8.500000e+04  8.500000e+04  8.500000e+04  \n",
       "mean  -2.825452e-17  4.965440e-17  7.638784e-15  \n",
       "std    1.000006e+00  1.000006e+00  1.000006e+00  \n",
       "min   -1.946913e+00 -1.936472e+00 -2.781868e+00  \n",
       "25%   -6.998756e-01 -6.994429e-01 -8.392746e-01  \n",
       "50%   -8.194046e-04  2.646193e-03  3.354269e-01  \n",
       "75%    6.963382e-01  7.025040e-01  9.202029e-01  \n",
       "max    1.946276e+00  1.952758e+00  1.065234e+00  "
      ]
     },
     "execution_count": 21,
     "metadata": {},
     "output_type": "execute_result"
    }
   ],
   "source": [
    "pd.DataFrame(X_train).describe()"
   ]
  },
  {
   "cell_type": "code",
   "execution_count": 22,
   "metadata": {},
   "outputs": [],
   "source": [
    "input = torch.tensor(X_test).float().to(device)"
   ]
  },
  {
   "cell_type": "code",
   "execution_count": 23,
   "metadata": {},
   "outputs": [
    {
     "data": {
      "text/plain": [
       "tensor([[-0.4450,  1.7686, -0.5562,  ..., -1.7686,  0.5562, -0.4366],\n",
       "        [ 1.0305,  0.5344, -1.8574,  ..., -0.5344,  1.8574, -1.4185],\n",
       "        [ 0.9248,  1.8641,  0.5211,  ..., -1.8641, -0.5211, -1.3171],\n",
       "        ...,\n",
       "        [ 0.7533, -1.4933, -1.2526,  ...,  1.4933,  1.2526, -1.0162],\n",
       "        [-1.6089, -0.9841,  1.6691,  ...,  0.9841, -1.6691, -1.1514],\n",
       "        [-0.7212, -0.6345,  1.7932,  ...,  0.6345, -1.7932, -1.5185]])"
      ]
     },
     "execution_count": 23,
     "metadata": {},
     "output_type": "execute_result"
    }
   ],
   "source": [
    "input"
   ]
  },
  {
   "cell_type": "code",
   "execution_count": 24,
   "metadata": {},
   "outputs": [],
   "source": [
    "vae.eval()\n",
    "output, _, _ = vae(input.float())"
   ]
  },
  {
   "cell_type": "code",
   "execution_count": 25,
   "metadata": {},
   "outputs": [
    {
     "data": {
      "text/plain": [
       "array([[-0.6619132 ,  1.8554926 , -0.488048  , ..., -1.8328332 ,\n",
       "         0.49037448, -0.37101728],\n",
       "       [ 0.6717782 ,  0.56252086, -1.9046621 , ..., -0.5728383 ,\n",
       "         1.9106606 , -1.3387259 ],\n",
       "       [ 0.87879384,  1.9015018 ,  0.5199303 , ..., -1.8876109 ,\n",
       "        -0.5116108 , -1.3788307 ],\n",
       "       ...,\n",
       "       [ 0.84217685, -1.2721606 , -1.0857284 , ...,  1.2733922 ,\n",
       "         1.112038  , -1.0509855 ],\n",
       "       [-2.1938047 , -0.68161976,  1.5676273 , ...,  0.6738301 ,\n",
       "        -1.5943291 , -0.97613406],\n",
       "       [-0.8350672 , -0.5445279 ,  1.6054653 , ...,  0.5095526 ,\n",
       "        -1.6048576 , -1.5104892 ]], dtype=float32)"
      ]
     },
     "execution_count": 25,
     "metadata": {},
     "output_type": "execute_result"
    }
   ],
   "source": [
    "output.detach().cpu().numpy()"
   ]
  },
  {
   "cell_type": "code",
   "execution_count": 26,
   "metadata": {},
   "outputs": [
    {
     "data": {
      "text/plain": [
       "tensor(0.0211, grad_fn=<MseLossBackward0>)"
      ]
     },
     "execution_count": 26,
     "metadata": {},
     "output_type": "execute_result"
    }
   ],
   "source": [
    "import torch.nn.functional as F\n",
    "F.mse_loss(input, output)"
   ]
  },
  {
   "cell_type": "code",
   "execution_count": 27,
   "metadata": {},
   "outputs": [
    {
     "data": {
      "text/plain": [
       "array([[100.9668623 ,  95.30042671, -24.67862163, ..., -94.13640288,\n",
       "         24.79825414,  33.91245792],\n",
       "       [101.03332568,  28.87993382, -97.52363872, ..., -29.40994523,\n",
       "         97.8320927 , -10.61561369],\n",
       "       [101.04364213,  97.66393748,  27.15355584, ..., -96.95035812,\n",
       "        -26.72575134, -12.46099044],\n",
       "       ...,\n",
       "       [101.04181735, -65.3684147 , -55.41249545, ...,  65.43168   ,\n",
       "         56.76538604,   2.62445422],\n",
       "       [100.89052179, -35.03208499,  81.02814596, ...,  34.63192635,\n",
       "        -82.40120416,   6.06866052],\n",
       "       [100.95823332, -27.98961863,  82.9738476 , ...,  26.19292349,\n",
       "        -82.94259701, -18.51911707]])"
      ]
     },
     "execution_count": 27,
     "metadata": {},
     "output_type": "execute_result"
    }
   ],
   "source": [
    "scaler.inverse_transform(output.detach())"
   ]
  },
  {
   "cell_type": "code",
   "execution_count": 28,
   "metadata": {},
   "outputs": [
    {
     "data": {
      "text/plain": [
       "array([[100.97767136,  90.83617262, -28.18133728, ..., -90.83617262,\n",
       "         28.18133728,  30.89663198],\n",
       "       [101.05120271,  27.43679191, -95.09550229, ..., -27.43679191,\n",
       "         95.09550229, -14.28524883],\n",
       "       [101.04593388,  95.7434981 ,  27.2143253 , ..., -95.7434981 ,\n",
       "        -27.2143253 ,  -9.62098303],\n",
       "       ...,\n",
       "       [101.03738629, -76.72693233, -63.99310538, ...,  76.72693233,\n",
       "         63.99310538,   4.22612515],\n",
       "       [100.91967194, -50.57134785,  86.24701884, ...,  50.57134785,\n",
       "        -86.24701884,  -1.997712  ],\n",
       "       [100.96390777, -32.61309232,  92.62601312, ...,  32.61309232,\n",
       "        -92.62601312, -18.88935201]])"
      ]
     },
     "execution_count": 28,
     "metadata": {},
     "output_type": "execute_result"
    }
   ],
   "source": [
    "scaler.inverse_transform(input.detach())"
   ]
  },
  {
   "cell_type": "code",
   "execution_count": 29,
   "metadata": {},
   "outputs": [],
   "source": [
    "gan = models.GAN(input_shape = input_dimension)"
   ]
  },
  {
   "cell_type": "code",
   "execution_count": 30,
   "metadata": {},
   "outputs": [
    {
     "data": {
      "text/plain": [
       "(850825, 136193, 714632)"
      ]
     },
     "execution_count": 30,
     "metadata": {},
     "output_type": "execute_result"
    }
   ],
   "source": [
    "count_parameters(gan), count_parameters(gan.discriminator), count_parameters(gan.generator)"
   ]
  },
  {
   "cell_type": "code",
   "execution_count": 31,
   "metadata": {},
   "outputs": [],
   "source": [
    "def train_GAN_helper(epochs):\n",
    "    for i in range(epochs):\n",
    "\n",
    "        start_time = time.time()\n",
    "\n",
    "        d_loss_avg, g_loss_avg = 0, 0\n",
    "\n",
    "        for batch in train_dataloader:\n",
    "\n",
    "            d_loss, g_loss = gan.train_with_batch(batch.float().to(device))\n",
    "\n",
    "            d_loss_avg += d_loss / len(train_dataloader)\n",
    "            g_loss_avg += g_loss / len(train_dataloader)\n",
    "\n",
    "        print(\"Epoch:\", i, f\"time passed: {time.time() - start_time:.2f}s\", f\"Train Losses (avg.): {d_loss_avg:.5f}, {g_loss_avg:.5f}\")"
   ]
  },
  {
   "cell_type": "code",
   "execution_count": 32,
   "metadata": {},
   "outputs": [],
   "source": [
    "if train_GAN:\n",
    "    train_GAN_helper(25)\n",
    "    torch.save(gan.state_dict(), \"./saved_models/gan-25e\")"
   ]
  },
  {
   "cell_type": "code",
   "execution_count": 51,
   "metadata": {},
   "outputs": [],
   "source": [
    "gan.eval()\n",
    "gan_generated = scaler.inverse_transform(gan.generate(15_000).detach())"
   ]
  },
  {
   "cell_type": "code",
   "execution_count": 52,
   "metadata": {},
   "outputs": [
    {
     "data": {
      "text/html": [
       "<div>\n",
       "<style scoped>\n",
       "    .dataframe tbody tr th:only-of-type {\n",
       "        vertical-align: middle;\n",
       "    }\n",
       "\n",
       "    .dataframe tbody tr th {\n",
       "        vertical-align: top;\n",
       "    }\n",
       "\n",
       "    .dataframe thead th {\n",
       "        text-align: right;\n",
       "    }\n",
       "</style>\n",
       "<table border=\"1\" class=\"dataframe\">\n",
       "  <thead>\n",
       "    <tr style=\"text-align: right;\">\n",
       "      <th></th>\n",
       "      <th>0</th>\n",
       "      <th>1</th>\n",
       "      <th>2</th>\n",
       "      <th>3</th>\n",
       "      <th>4</th>\n",
       "      <th>5</th>\n",
       "      <th>6</th>\n",
       "      <th>7</th>\n",
       "    </tr>\n",
       "  </thead>\n",
       "  <tbody>\n",
       "    <tr>\n",
       "      <th>count</th>\n",
       "      <td>15000.000000</td>\n",
       "      <td>15000.000000</td>\n",
       "      <td>15000.000000</td>\n",
       "      <td>15000.000000</td>\n",
       "      <td>15000.000000</td>\n",
       "      <td>15000.000000</td>\n",
       "      <td>15000.000000</td>\n",
       "      <td>15000.000000</td>\n",
       "    </tr>\n",
       "    <tr>\n",
       "      <th>mean</th>\n",
       "      <td>101.001361</td>\n",
       "      <td>-1.222727</td>\n",
       "      <td>1.676517</td>\n",
       "      <td>-51.858985</td>\n",
       "      <td>101.000300</td>\n",
       "      <td>-1.231672</td>\n",
       "      <td>-1.760722</td>\n",
       "      <td>50.251142</td>\n",
       "    </tr>\n",
       "    <tr>\n",
       "      <th>std</th>\n",
       "      <td>0.000253</td>\n",
       "      <td>0.260430</td>\n",
       "      <td>0.229520</td>\n",
       "      <td>0.217810</td>\n",
       "      <td>0.000262</td>\n",
       "      <td>0.279305</td>\n",
       "      <td>0.295966</td>\n",
       "      <td>0.251015</td>\n",
       "    </tr>\n",
       "    <tr>\n",
       "      <th>min</th>\n",
       "      <td>101.000367</td>\n",
       "      <td>-2.278667</td>\n",
       "      <td>0.819331</td>\n",
       "      <td>-52.788914</td>\n",
       "      <td>100.999218</td>\n",
       "      <td>-2.254470</td>\n",
       "      <td>-3.163085</td>\n",
       "      <td>49.248861</td>\n",
       "    </tr>\n",
       "    <tr>\n",
       "      <th>25%</th>\n",
       "      <td>101.001194</td>\n",
       "      <td>-1.396561</td>\n",
       "      <td>1.522865</td>\n",
       "      <td>-52.000284</td>\n",
       "      <td>101.000126</td>\n",
       "      <td>-1.414858</td>\n",
       "      <td>-1.955615</td>\n",
       "      <td>50.081825</td>\n",
       "    </tr>\n",
       "    <tr>\n",
       "      <th>50%</th>\n",
       "      <td>101.001365</td>\n",
       "      <td>-1.224129</td>\n",
       "      <td>1.675602</td>\n",
       "      <td>-51.859144</td>\n",
       "      <td>101.000302</td>\n",
       "      <td>-1.232864</td>\n",
       "      <td>-1.756632</td>\n",
       "      <td>50.246094</td>\n",
       "    </tr>\n",
       "    <tr>\n",
       "      <th>75%</th>\n",
       "      <td>101.001532</td>\n",
       "      <td>-1.047620</td>\n",
       "      <td>1.824654</td>\n",
       "      <td>-51.714294</td>\n",
       "      <td>101.000473</td>\n",
       "      <td>-1.042273</td>\n",
       "      <td>-1.561415</td>\n",
       "      <td>50.414925</td>\n",
       "    </tr>\n",
       "    <tr>\n",
       "      <th>max</th>\n",
       "      <td>101.002287</td>\n",
       "      <td>-0.195210</td>\n",
       "      <td>2.612123</td>\n",
       "      <td>-51.059563</td>\n",
       "      <td>101.001478</td>\n",
       "      <td>-0.187642</td>\n",
       "      <td>-0.481164</td>\n",
       "      <td>51.255618</td>\n",
       "    </tr>\n",
       "  </tbody>\n",
       "</table>\n",
       "</div>"
      ],
      "text/plain": [
       "                  0             1             2             3             4  \\\n",
       "count  15000.000000  15000.000000  15000.000000  15000.000000  15000.000000   \n",
       "mean     101.001361     -1.222727      1.676517    -51.858985    101.000300   \n",
       "std        0.000253      0.260430      0.229520      0.217810      0.000262   \n",
       "min      101.000367     -2.278667      0.819331    -52.788914    100.999218   \n",
       "25%      101.001194     -1.396561      1.522865    -52.000284    101.000126   \n",
       "50%      101.001365     -1.224129      1.675602    -51.859144    101.000302   \n",
       "75%      101.001532     -1.047620      1.824654    -51.714294    101.000473   \n",
       "max      101.002287     -0.195210      2.612123    -51.059563    101.001478   \n",
       "\n",
       "                  5             6             7  \n",
       "count  15000.000000  15000.000000  15000.000000  \n",
       "mean      -1.231672     -1.760722     50.251142  \n",
       "std        0.279305      0.295966      0.251015  \n",
       "min       -2.254470     -3.163085     49.248861  \n",
       "25%       -1.414858     -1.955615     50.081825  \n",
       "50%       -1.232864     -1.756632     50.246094  \n",
       "75%       -1.042273     -1.561415     50.414925  \n",
       "max       -0.187642     -0.481164     51.255618  "
      ]
     },
     "execution_count": 52,
     "metadata": {},
     "output_type": "execute_result"
    }
   ],
   "source": [
    "pd.DataFrame(gan_generated).describe()"
   ]
  },
  {
   "cell_type": "code",
   "execution_count": 56,
   "metadata": {},
   "outputs": [],
   "source": [
    "dummy_data = torch.Tensor(torch.normal(0, 1, size=(15_000, latent_dim)))\n",
    "vae.eval()\n",
    "vae_generated = scaler.inverse_transform(vae.decode(dummy_data).detach())"
   ]
  },
  {
   "cell_type": "code",
   "execution_count": 57,
   "metadata": {},
   "outputs": [
    {
     "data": {
      "text/html": [
       "<div>\n",
       "<style scoped>\n",
       "    .dataframe tbody tr th:only-of-type {\n",
       "        vertical-align: middle;\n",
       "    }\n",
       "\n",
       "    .dataframe tbody tr th {\n",
       "        vertical-align: top;\n",
       "    }\n",
       "\n",
       "    .dataframe thead th {\n",
       "        text-align: right;\n",
       "    }\n",
       "</style>\n",
       "<table border=\"1\" class=\"dataframe\">\n",
       "  <thead>\n",
       "    <tr style=\"text-align: right;\">\n",
       "      <th></th>\n",
       "      <th>0</th>\n",
       "      <th>1</th>\n",
       "      <th>2</th>\n",
       "      <th>3</th>\n",
       "      <th>4</th>\n",
       "      <th>5</th>\n",
       "      <th>6</th>\n",
       "      <th>7</th>\n",
       "    </tr>\n",
       "  </thead>\n",
       "  <tbody>\n",
       "    <tr>\n",
       "      <th>count</th>\n",
       "      <td>15000.000000</td>\n",
       "      <td>15000.000000</td>\n",
       "      <td>15000.000000</td>\n",
       "      <td>15000.000000</td>\n",
       "      <td>15000.000000</td>\n",
       "      <td>15000.000000</td>\n",
       "      <td>15000.000000</td>\n",
       "      <td>15000.000000</td>\n",
       "    </tr>\n",
       "    <tr>\n",
       "      <th>mean</th>\n",
       "      <td>100.997593</td>\n",
       "      <td>1.991920</td>\n",
       "      <td>0.253128</td>\n",
       "      <td>-51.775621</td>\n",
       "      <td>101.001311</td>\n",
       "      <td>-2.183792</td>\n",
       "      <td>0.092665</td>\n",
       "      <td>52.145582</td>\n",
       "    </tr>\n",
       "    <tr>\n",
       "      <th>std</th>\n",
       "      <td>0.048513</td>\n",
       "      <td>45.561888</td>\n",
       "      <td>46.302918</td>\n",
       "      <td>39.880162</td>\n",
       "      <td>0.048363</td>\n",
       "      <td>45.505342</td>\n",
       "      <td>46.295134</td>\n",
       "      <td>39.899395</td>\n",
       "    </tr>\n",
       "    <tr>\n",
       "      <th>min</th>\n",
       "      <td>100.798654</td>\n",
       "      <td>-172.643933</td>\n",
       "      <td>-169.316013</td>\n",
       "      <td>-117.510798</td>\n",
       "      <td>100.833997</td>\n",
       "      <td>-162.445436</td>\n",
       "      <td>-178.031218</td>\n",
       "      <td>-129.275435</td>\n",
       "    </tr>\n",
       "    <tr>\n",
       "      <th>25%</th>\n",
       "      <td>100.964660</td>\n",
       "      <td>-27.170694</td>\n",
       "      <td>-30.213697</td>\n",
       "      <td>-85.758905</td>\n",
       "      <td>100.968583</td>\n",
       "      <td>-31.286243</td>\n",
       "      <td>-29.564856</td>\n",
       "      <td>24.705323</td>\n",
       "    </tr>\n",
       "    <tr>\n",
       "      <th>50%</th>\n",
       "      <td>100.997560</td>\n",
       "      <td>1.885618</td>\n",
       "      <td>-1.295408</td>\n",
       "      <td>-60.151503</td>\n",
       "      <td>101.000734</td>\n",
       "      <td>-2.025924</td>\n",
       "      <td>1.472877</td>\n",
       "      <td>60.591064</td>\n",
       "    </tr>\n",
       "    <tr>\n",
       "      <th>75%</th>\n",
       "      <td>101.030792</td>\n",
       "      <td>31.143385</td>\n",
       "      <td>29.962278</td>\n",
       "      <td>-24.240006</td>\n",
       "      <td>101.033413</td>\n",
       "      <td>27.032923</td>\n",
       "      <td>30.748242</td>\n",
       "      <td>86.153789</td>\n",
       "    </tr>\n",
       "    <tr>\n",
       "      <th>max</th>\n",
       "      <td>101.182409</td>\n",
       "      <td>161.773554</td>\n",
       "      <td>178.150900</td>\n",
       "      <td>130.272144</td>\n",
       "      <td>101.218560</td>\n",
       "      <td>170.392102</td>\n",
       "      <td>169.480615</td>\n",
       "      <td>116.943943</td>\n",
       "    </tr>\n",
       "  </tbody>\n",
       "</table>\n",
       "</div>"
      ],
      "text/plain": [
       "                  0             1             2             3             4  \\\n",
       "count  15000.000000  15000.000000  15000.000000  15000.000000  15000.000000   \n",
       "mean     100.997593      1.991920      0.253128    -51.775621    101.001311   \n",
       "std        0.048513     45.561888     46.302918     39.880162      0.048363   \n",
       "min      100.798654   -172.643933   -169.316013   -117.510798    100.833997   \n",
       "25%      100.964660    -27.170694    -30.213697    -85.758905    100.968583   \n",
       "50%      100.997560      1.885618     -1.295408    -60.151503    101.000734   \n",
       "75%      101.030792     31.143385     29.962278    -24.240006    101.033413   \n",
       "max      101.182409    161.773554    178.150900    130.272144    101.218560   \n",
       "\n",
       "                  5             6             7  \n",
       "count  15000.000000  15000.000000  15000.000000  \n",
       "mean      -2.183792      0.092665     52.145582  \n",
       "std       45.505342     46.295134     39.899395  \n",
       "min     -162.445436   -178.031218   -129.275435  \n",
       "25%      -31.286243    -29.564856     24.705323  \n",
       "50%       -2.025924      1.472877     60.591064  \n",
       "75%       27.032923     30.748242     86.153789  \n",
       "max      170.392102    169.480615    116.943943  "
      ]
     },
     "execution_count": 57,
     "metadata": {},
     "output_type": "execute_result"
    }
   ],
   "source": [
    "pd.DataFrame(vae_generated).describe()"
   ]
  },
  {
   "cell_type": "code",
   "execution_count": 44,
   "metadata": {},
   "outputs": [
    {
     "data": {
      "text/html": [
       "<div>\n",
       "<style scoped>\n",
       "    .dataframe tbody tr th:only-of-type {\n",
       "        vertical-align: middle;\n",
       "    }\n",
       "\n",
       "    .dataframe tbody tr th {\n",
       "        vertical-align: top;\n",
       "    }\n",
       "\n",
       "    .dataframe thead th {\n",
       "        text-align: right;\n",
       "    }\n",
       "</style>\n",
       "<table border=\"1\" class=\"dataframe\">\n",
       "  <thead>\n",
       "    <tr style=\"text-align: right;\">\n",
       "      <th></th>\n",
       "      <th>0</th>\n",
       "      <th>1</th>\n",
       "      <th>2</th>\n",
       "      <th>3</th>\n",
       "      <th>4</th>\n",
       "      <th>5</th>\n",
       "      <th>6</th>\n",
       "      <th>7</th>\n",
       "    </tr>\n",
       "  </thead>\n",
       "  <tbody>\n",
       "    <tr>\n",
       "      <th>count</th>\n",
       "      <td>15000.000000</td>\n",
       "      <td>15000.000000</td>\n",
       "      <td>15000.000000</td>\n",
       "      <td>15000.000000</td>\n",
       "      <td>15000.000000</td>\n",
       "      <td>15000.000000</td>\n",
       "      <td>15000.000000</td>\n",
       "      <td>15000.000000</td>\n",
       "    </tr>\n",
       "    <tr>\n",
       "      <th>mean</th>\n",
       "      <td>100.999625</td>\n",
       "      <td>-0.251671</td>\n",
       "      <td>-0.124810</td>\n",
       "      <td>-50.612889</td>\n",
       "      <td>100.999935</td>\n",
       "      <td>0.251671</td>\n",
       "      <td>0.124810</td>\n",
       "      <td>50.612889</td>\n",
       "    </tr>\n",
       "    <tr>\n",
       "      <th>std</th>\n",
       "      <td>0.049860</td>\n",
       "      <td>51.369773</td>\n",
       "      <td>51.607820</td>\n",
       "      <td>46.222633</td>\n",
       "      <td>0.050101</td>\n",
       "      <td>51.369773</td>\n",
       "      <td>51.607820</td>\n",
       "      <td>46.222633</td>\n",
       "    </tr>\n",
       "    <tr>\n",
       "      <th>min</th>\n",
       "      <td>100.805305</td>\n",
       "      <td>-99.954406</td>\n",
       "      <td>-99.988495</td>\n",
       "      <td>-100.000000</td>\n",
       "      <td>100.806001</td>\n",
       "      <td>-99.980538</td>\n",
       "      <td>-99.999600</td>\n",
       "      <td>-70.612768</td>\n",
       "    </tr>\n",
       "    <tr>\n",
       "      <th>25%</th>\n",
       "      <td>100.965652</td>\n",
       "      <td>-37.010077</td>\n",
       "      <td>-36.297777</td>\n",
       "      <td>-93.403606</td>\n",
       "      <td>100.966527</td>\n",
       "      <td>-35.451142</td>\n",
       "      <td>-35.394070</td>\n",
       "      <td>11.379495</td>\n",
       "    </tr>\n",
       "    <tr>\n",
       "      <th>50%</th>\n",
       "      <td>100.999480</td>\n",
       "      <td>0.017226</td>\n",
       "      <td>-0.051379</td>\n",
       "      <td>-65.606204</td>\n",
       "      <td>100.999942</td>\n",
       "      <td>-0.017226</td>\n",
       "      <td>0.051379</td>\n",
       "      <td>65.606204</td>\n",
       "    </tr>\n",
       "    <tr>\n",
       "      <th>75%</th>\n",
       "      <td>101.033186</td>\n",
       "      <td>35.451142</td>\n",
       "      <td>35.394070</td>\n",
       "      <td>-11.379495</td>\n",
       "      <td>101.033859</td>\n",
       "      <td>37.010077</td>\n",
       "      <td>36.297777</td>\n",
       "      <td>93.403606</td>\n",
       "    </tr>\n",
       "    <tr>\n",
       "      <th>max</th>\n",
       "      <td>101.184850</td>\n",
       "      <td>99.980538</td>\n",
       "      <td>99.999600</td>\n",
       "      <td>70.612768</td>\n",
       "      <td>101.188842</td>\n",
       "      <td>99.954406</td>\n",
       "      <td>99.988495</td>\n",
       "      <td>100.000000</td>\n",
       "    </tr>\n",
       "  </tbody>\n",
       "</table>\n",
       "</div>"
      ],
      "text/plain": [
       "                  0             1             2             3             4  \\\n",
       "count  15000.000000  15000.000000  15000.000000  15000.000000  15000.000000   \n",
       "mean     100.999625     -0.251671     -0.124810    -50.612889    100.999935   \n",
       "std        0.049860     51.369773     51.607820     46.222633      0.050101   \n",
       "min      100.805305    -99.954406    -99.988495   -100.000000    100.806001   \n",
       "25%      100.965652    -37.010077    -36.297777    -93.403606    100.966527   \n",
       "50%      100.999480      0.017226     -0.051379    -65.606204    100.999942   \n",
       "75%      101.033186     35.451142     35.394070    -11.379495    101.033859   \n",
       "max      101.184850     99.980538     99.999600     70.612768    101.188842   \n",
       "\n",
       "                  5             6             7  \n",
       "count  15000.000000  15000.000000  15000.000000  \n",
       "mean       0.251671      0.124810     50.612889  \n",
       "std       51.369773     51.607820     46.222633  \n",
       "min      -99.980538    -99.999600    -70.612768  \n",
       "25%      -35.451142    -35.394070     11.379495  \n",
       "50%       -0.017226      0.051379     65.606204  \n",
       "75%       37.010077     36.297777     93.403606  \n",
       "max       99.954406     99.988495    100.000000  "
      ]
     },
     "execution_count": 44,
     "metadata": {},
     "output_type": "execute_result"
    }
   ],
   "source": [
    "pd.DataFrame(scaler.inverse_transform(X_test)).describe()"
   ]
  },
  {
   "cell_type": "code",
   "execution_count": 45,
   "metadata": {},
   "outputs": [
    {
     "data": {
      "text/html": [
       "<div>\n",
       "<style scoped>\n",
       "    .dataframe tbody tr th:only-of-type {\n",
       "        vertical-align: middle;\n",
       "    }\n",
       "\n",
       "    .dataframe tbody tr th {\n",
       "        vertical-align: top;\n",
       "    }\n",
       "\n",
       "    .dataframe thead th {\n",
       "        text-align: right;\n",
       "    }\n",
       "</style>\n",
       "<table border=\"1\" class=\"dataframe\">\n",
       "  <thead>\n",
       "    <tr style=\"text-align: right;\">\n",
       "      <th></th>\n",
       "      <th>0</th>\n",
       "      <th>1</th>\n",
       "      <th>2</th>\n",
       "      <th>3</th>\n",
       "      <th>4</th>\n",
       "      <th>5</th>\n",
       "      <th>6</th>\n",
       "      <th>7</th>\n",
       "    </tr>\n",
       "  </thead>\n",
       "  <tbody>\n",
       "    <tr>\n",
       "      <th>count</th>\n",
       "      <td>15000.000000</td>\n",
       "      <td>15000.000000</td>\n",
       "      <td>15000.000000</td>\n",
       "      <td>15000.000000</td>\n",
       "      <td>15000.000000</td>\n",
       "      <td>15000.000000</td>\n",
       "      <td>15000.000000</td>\n",
       "      <td>15000.000000</td>\n",
       "    </tr>\n",
       "    <tr>\n",
       "      <th>mean</th>\n",
       "      <td>100.999909</td>\n",
       "      <td>0.362520</td>\n",
       "      <td>0.405919</td>\n",
       "      <td>-51.034219</td>\n",
       "      <td>100.998868</td>\n",
       "      <td>0.123345</td>\n",
       "      <td>-1.013253</td>\n",
       "      <td>51.739667</td>\n",
       "    </tr>\n",
       "    <tr>\n",
       "      <th>std</th>\n",
       "      <td>0.049412</td>\n",
       "      <td>51.527085</td>\n",
       "      <td>51.703501</td>\n",
       "      <td>46.013523</td>\n",
       "      <td>0.049497</td>\n",
       "      <td>51.242061</td>\n",
       "      <td>51.114680</td>\n",
       "      <td>46.066964</td>\n",
       "    </tr>\n",
       "    <tr>\n",
       "      <th>min</th>\n",
       "      <td>100.792828</td>\n",
       "      <td>-202.413530</td>\n",
       "      <td>-214.717237</td>\n",
       "      <td>-239.391667</td>\n",
       "      <td>100.747439</td>\n",
       "      <td>-203.018754</td>\n",
       "      <td>-203.479676</td>\n",
       "      <td>-115.369946</td>\n",
       "    </tr>\n",
       "    <tr>\n",
       "      <th>25%</th>\n",
       "      <td>100.966854</td>\n",
       "      <td>-35.015952</td>\n",
       "      <td>-34.077487</td>\n",
       "      <td>-82.535428</td>\n",
       "      <td>100.965731</td>\n",
       "      <td>-34.262735</td>\n",
       "      <td>-35.679834</td>\n",
       "      <td>20.873839</td>\n",
       "    </tr>\n",
       "    <tr>\n",
       "      <th>50%</th>\n",
       "      <td>101.000000</td>\n",
       "      <td>0.550670</td>\n",
       "      <td>0.381733</td>\n",
       "      <td>-51.384506</td>\n",
       "      <td>100.998627</td>\n",
       "      <td>0.127280</td>\n",
       "      <td>-0.589876</td>\n",
       "      <td>51.485166</td>\n",
       "    </tr>\n",
       "    <tr>\n",
       "      <th>75%</th>\n",
       "      <td>101.032855</td>\n",
       "      <td>35.671081</td>\n",
       "      <td>35.516530</td>\n",
       "      <td>-19.021502</td>\n",
       "      <td>101.031660</td>\n",
       "      <td>34.628668</td>\n",
       "      <td>33.614885</td>\n",
       "      <td>82.737974</td>\n",
       "    </tr>\n",
       "    <tr>\n",
       "      <th>max</th>\n",
       "      <td>101.197089</td>\n",
       "      <td>185.797196</td>\n",
       "      <td>194.943398</td>\n",
       "      <td>122.900389</td>\n",
       "      <td>101.174115</td>\n",
       "      <td>182.342540</td>\n",
       "      <td>179.812768</td>\n",
       "      <td>257.444652</td>\n",
       "    </tr>\n",
       "  </tbody>\n",
       "</table>\n",
       "</div>"
      ],
      "text/plain": [
       "                  0             1             2             3             4  \\\n",
       "count  15000.000000  15000.000000  15000.000000  15000.000000  15000.000000   \n",
       "mean     100.999909      0.362520      0.405919    -51.034219    100.998868   \n",
       "std        0.049412     51.527085     51.703501     46.013523      0.049497   \n",
       "min      100.792828   -202.413530   -214.717237   -239.391667    100.747439   \n",
       "25%      100.966854    -35.015952    -34.077487    -82.535428    100.965731   \n",
       "50%      101.000000      0.550670      0.381733    -51.384506    100.998627   \n",
       "75%      101.032855     35.671081     35.516530    -19.021502    101.031660   \n",
       "max      101.197089    185.797196    194.943398    122.900389    101.174115   \n",
       "\n",
       "                  5             6             7  \n",
       "count  15000.000000  15000.000000  15000.000000  \n",
       "mean       0.123345     -1.013253     51.739667  \n",
       "std       51.242061     51.114680     46.066964  \n",
       "min     -203.018754   -203.479676   -115.369946  \n",
       "25%      -34.262735    -35.679834     20.873839  \n",
       "50%        0.127280     -0.589876     51.485166  \n",
       "75%       34.628668     33.614885     82.737974  \n",
       "max      182.342540    179.812768    257.444652  "
      ]
     },
     "execution_count": 45,
     "metadata": {},
     "output_type": "execute_result"
    }
   ],
   "source": [
    "pd.DataFrame(scaler.inverse_transform(np.random.normal(0, 1, size=(15_000, 8)))).describe()"
   ]
  },
  {
   "cell_type": "code",
   "execution_count": null,
   "metadata": {},
   "outputs": [],
   "source": []
  }
 ],
 "metadata": {
  "kernelspec": {
   "display_name": "Python 3.8.5 64-bit",
   "language": "python",
   "name": "python3"
  },
  "language_info": {
   "codemirror_mode": {
    "name": "ipython",
    "version": 3
   },
   "file_extension": ".py",
   "mimetype": "text/x-python",
   "name": "python",
   "nbconvert_exporter": "python",
   "pygments_lexer": "ipython3",
   "version": "3.8.5"
  },
  "orig_nbformat": 4,
  "vscode": {
   "interpreter": {
    "hash": "570feb405e2e27c949193ac68f46852414290d515b0ba6e5d90d076ed2284471"
   }
  }
 },
 "nbformat": 4,
 "nbformat_minor": 2
}
